{
 "cells": [
  {
   "cell_type": "markdown",
   "metadata": {},
   "source": [
    "#  <span style=color:red>  CAUSES OF THE MORTALITY FROM INTERNAL AND EXTERNAL FACTORS OF THE WORLD POPULATION IN 1990-2016 </span>"
   ]
  },
  {
   "cell_type": "markdown",
   "metadata": {},
   "source": [
    "### Analysing by Chirapa Muadchan 989357778 and Subahu Datta Kimidi 989355454"
   ]
  },
  {
   "cell_type": "markdown",
   "metadata": {},
   "source": [
    "# _Exploratory Data Analysis_"
   ]
  },
  {
   "cell_type": "markdown",
   "metadata": {},
   "source": [
    "## <span style=color:blue>  Objective of the proposed research"
   ]
  },
  {
   "cell_type": "markdown",
   "metadata": {},
   "source": [
    "In each day, the population is changing in both the birth rate and the death rate. Even though each country has been developed in many ways for decades, people still can not escape from the morality. These causes of death data were collected for 26 years, 1990-2016 BC. There are many factors of the death to consider, which are from external factors, and internal causes. The external causes are Terrorism, Fire, Heat related hot and cold exposure, Natural disastersand and Conflictsfrom. On the other hand, there are many causes from internal factors such as Cancers, Tuberculosis, HIV.AIDs  Diabetes, Cardiovascular diseases, and so on. \n",
    "\n",
    "Hence, firstly we are going to demonstrate the changing of the death rate in US in every 10 year since 1990 to the recent year(2016).Therefore, USA is well-known as one of  developed countries when compares to  Laos as an undeveloped country and Brazil as a developing country to see if there are differences in the death rate of different diseases.\n",
    "Secondly, we are going to visualize the death rate in 5 gangerous diseases(Cancers, Tuberculosis, HIV.AIDs  Diabetes,and Cardiovascular diseases) in Switzerland as . Furthermore, we are going to visualize the death rate of cancer in France, well-known as the best health care country in the world, in 1990-2016.\n",
    "\n",
    "In addition, we also tried to find the correlation between diseases and factors that we were interested in analysing. We are going to see if is there a relationship between the death of having cancers and having alcohol disorder. Secondly, we would like to see if having having alcohol disorder is related to having Parkinson. Finally, we also would like to know if havind diabetes affects on the function of kidney. \n",
    "\n",
    "\n",
    "\n",
    "Overall, these results will be beneficial for the gorvenment section in the world to be aware of causes of the morality in to develope Health care section in each country in order to manage the number of nurses, physicians or specialists to handle with the number of patients when we assume that the rate of the death of population are relative to the number of patients. Furthermore, the heath care section can provide knowlegde for people in each country to take care thier health to avoid illness and other factors of the death."
   ]
  },
  {
   "cell_type": "code",
   "execution_count": 3,
   "metadata": {},
   "outputs": [],
   "source": [
    "death <-read.csv('/Users/jet/Desktop/global_mortality.csv',stringsAsFactor = F)"
   ]
  },
  {
   "cell_type": "code",
   "execution_count": 4,
   "metadata": {},
   "outputs": [
    {
     "data": {
      "text/plain": [
       "  ï..country        country_code            year     \n",
       " Length:6156        Length:6156        Min.   :1990  \n",
       " Class :character   Class :character   1st Qu.:1996  \n",
       " Mode  :character   Mode  :character   Median :2003  \n",
       "                                       Mean   :2003  \n",
       "                                       3rd Qu.:2010  \n",
       "                                       Max.   :2016  \n",
       "                                                     \n",
       " Cardiovascular.diseases....  Cancers....      Respiratory.diseases....\n",
       " Min.   : 1.429              Min.   : 0.5823   Min.   : 0.298          \n",
       " 1st Qu.:18.744              1st Qu.: 6.9266   1st Qu.: 2.263          \n",
       " Median :30.652              Median :13.3075   Median : 3.628          \n",
       " Mean   :29.935              Mean   :14.3865   Mean   : 4.100          \n",
       " 3rd Qu.:38.447              3rd Qu.:21.3591   3rd Qu.: 5.379          \n",
       " Max.   :67.388              Max.   :33.6175   Max.   :16.289          \n",
       "                                                                       \n",
       "  Diabetes....      Dementia....      Lower.respiratory.infections....\n",
       " Min.   : 0.3271   Min.   : 0.04475   Min.   : 0.6846                 \n",
       " 1st Qu.: 3.1983   1st Qu.: 1.01276   1st Qu.: 3.2098                 \n",
       " Median : 4.9910   Median : 2.52541   Median : 5.1385                 \n",
       " Mean   : 6.2862   Mean   : 3.22056   Mean   : 5.8392                 \n",
       " 3rd Qu.: 7.9318   3rd Qu.: 4.33010   3rd Qu.: 8.1610                 \n",
       " Max.   :35.8162   Max.   :16.67248   Max.   :20.0352                 \n",
       "                                                                      \n",
       " Neonatal.deaths.... Diarrheal.diseases.... Road.accidents....\n",
       " Min.   : 0.04071    Min.   : 0.008251      Min.   : 0.2784   \n",
       " 1st Qu.: 0.68559    1st Qu.: 0.178763      1st Qu.: 1.3558   \n",
       " Median : 3.89183    Median : 0.767651      Median : 1.9287   \n",
       " Mean   : 4.56666    Mean   : 3.195824      Mean   : 2.5312   \n",
       " 3rd Qu.: 7.74003    3rd Qu.: 5.285289      3rd Qu.: 2.9033   \n",
       " Max.   :17.80683    Max.   :25.184488      Max.   :20.9009   \n",
       "                                                              \n",
       " Liver.disease.... Tuberculosis....   Kidney.disease.... Digestive.diseases....\n",
       " Min.   : 0.1929   Min.   : 0.01088   Min.   :0.05624    Min.   :0.3136        \n",
       " 1st Qu.: 1.3378   1st Qu.: 0.24386   1st Qu.:0.90262    1st Qu.:1.5051        \n",
       " Median : 1.8255   Median : 0.91365   Median :1.73135    Median :1.9312        \n",
       " Mean   : 2.1242   Mean   : 2.13261   Mean   :2.08838    Mean   :1.9697        \n",
       " 3rd Qu.: 2.5360   3rd Qu.: 3.32878   3rd Qu.:2.96065    3rd Qu.:2.2885        \n",
       " Max.   :11.6471   Max.   :16.46586   Max.   :9.94769    Max.   :5.1587        \n",
       "                                                                               \n",
       "  HIV.AIDS....       Suicide....       Malaria....         Homicide....    \n",
       " Min.   : 0.00000   Min.   : 0.1016   Min.   : 0.000000   Min.   : 0.0452  \n",
       " 1st Qu.: 0.08141   1st Qu.: 0.6917   1st Qu.: 0.000000   1st Qu.: 0.2396  \n",
       " Median : 0.43797   Median : 1.1767   Median : 0.002715   Median : 0.5155  \n",
       " Mean   : 3.35177   Mean   : 1.3914   Mean   : 1.800705   Mean   : 0.9830  \n",
       " 3rd Qu.: 2.33436   3rd Qu.: 1.7953   3rd Qu.: 0.478271   3rd Qu.: 0.9966  \n",
       " Max.   :62.19363   Max.   :15.4120   Max.   :24.425962   Max.   :14.2293  \n",
       "                                                                           \n",
       " Nutritional.deficiencies.... Meningitis....    Protein.energy.malnutrition....\n",
       " Min.   : 0.00375             Min.   :0.02799   Min.   : 0.00109               \n",
       " 1st Qu.: 0.09012             1st Qu.:0.11099   1st Qu.: 0.05820               \n",
       " Median : 0.39700             Median :0.35340   Median : 0.31858               \n",
       " Mean   : 1.09517             Mean   :0.78312   Mean   : 0.99988               \n",
       " 3rd Qu.: 1.34297             3rd Qu.:1.02146   3rd Qu.: 1.21894               \n",
       " Max.   :35.54501             Max.   :6.98135   Max.   :35.51870               \n",
       "                                                                               \n",
       "  Drowning....     Maternal.deaths.... Parkinson.disease....\n",
       " Min.   :0.05331   Min.   :0.00188     Min.   :0.002316     \n",
       " 1st Qu.:0.35380   1st Qu.:0.03230     1st Qu.:0.074313     \n",
       " Median :0.61102   Median :0.23696     Median :0.214174     \n",
       " Mean   :0.71420   Mean   :0.58591     Mean   :0.290729     \n",
       " 3rd Qu.:0.95709   3rd Qu.:1.00166     3rd Qu.:0.426837     \n",
       " Max.   :4.51095   Max.   :3.41435     Max.   :1.592211     \n",
       "                                                            \n",
       " Alcohol.disorders.... Intestinal.infectious.diseases.... Drug.disorders....\n",
       " Min.   :0.01275       Min.   :0.0000709                  Min.   :0.001797  \n",
       " 1st Qu.:0.07784       1st Qu.:0.0007685                  1st Qu.:0.058298  \n",
       " Median :0.16038       Median :0.0142907                  Median :0.120883  \n",
       " Mean   :0.31656       Mean   :0.1765760                  Mean   :0.181023  \n",
       " 3rd Qu.:0.39209       3rd Qu.:0.2650934                  3rd Qu.:0.234596  \n",
       " Max.   :3.08053       Max.   :2.2765134                  Max.   :1.313466  \n",
       "                                                                            \n",
       " Hepatitis....         Fire....       Heat.related..hot.and.cold.exposure.....\n",
       " Min.   :0.004848   Min.   :0.05691   Min.   :0.007108                        \n",
       " 1st Qu.:0.037685   1st Qu.:0.18833   1st Qu.:0.042403                        \n",
       " Median :0.110875   Median :0.31880   Median :0.069565                        \n",
       " Mean   :0.161039   Mean   :0.33422   Mean   :0.102844                        \n",
       " 3rd Qu.:0.243074   3rd Qu.:0.43331   3rd Qu.:0.114803                        \n",
       " Max.   :1.583289   Max.   :1.34369   Max.   :1.165286                        \n",
       "                                                                              \n",
       " Natural.disasters....  Conflict....     Terrorism....   \n",
       " Min.   : 0.00000      Min.   : 0.0000   Min.   :0.0000  \n",
       " 1st Qu.: 0.00000      1st Qu.: 0.0000   1st Qu.:0.0000  \n",
       " Median : 0.00000      Median : 0.0000   Median :0.0000  \n",
       " Mean   : 0.09451      Mean   : 0.2909   Mean   :0.0373  \n",
       " 3rd Qu.: 0.01695      3rd Qu.: 0.0170   3rd Qu.:0.0040  \n",
       " Max.   :65.29420      Max.   :82.3170   Max.   :5.8770  \n",
       "                       NA's   :1398      NA's   :1398    "
      ]
     },
     "metadata": {},
     "output_type": "display_data"
    }
   ],
   "source": [
    "summary(death)"
   ]
  },
  {
   "cell_type": "markdown",
   "metadata": {},
   "source": [
    "## <span style=color:blue> Data Exploration"
   ]
  },
  {
   "cell_type": "markdown",
   "metadata": {},
   "source": [
    "### The head and the tail of the percentage of causes of the death"
   ]
  },
  {
   "cell_type": "code",
   "execution_count": 5,
   "metadata": {},
   "outputs": [
    {
     "data": {
      "text/html": [
       "<table>\n",
       "<thead><tr><th scope=col>ï..country</th><th scope=col>country_code</th><th scope=col>year</th><th scope=col>Cardiovascular.diseases....</th><th scope=col>Cancers....</th><th scope=col>Respiratory.diseases....</th><th scope=col>Diabetes....</th><th scope=col>Dementia....</th><th scope=col>Lower.respiratory.infections....</th><th scope=col>Neonatal.deaths....</th><th scope=col>...</th><th scope=col>Parkinson.disease....</th><th scope=col>Alcohol.disorders....</th><th scope=col>Intestinal.infectious.diseases....</th><th scope=col>Drug.disorders....</th><th scope=col>Hepatitis....</th><th scope=col>Fire....</th><th scope=col>Heat.related..hot.and.cold.exposure.....</th><th scope=col>Natural.disasters....</th><th scope=col>Conflict....</th><th scope=col>Terrorism....</th></tr></thead>\n",
       "<tbody>\n",
       "\t<tr><td>Afghanistan</td><td>AFG        </td><td>1990       </td><td>17.61040   </td><td>4.025975   </td><td>2.106626   </td><td>3.832555   </td><td>0.5314287  </td><td>10.886362  </td><td>9.184653   </td><td>...        </td><td>0.02515859 </td><td>0.02899828 </td><td>0.1833303  </td><td>0.04120540 </td><td>0.1387378  </td><td>0.1741567  </td><td>0.1378229  </td><td>0.00000000 </td><td>0.932      </td><td>0.007      </td></tr>\n",
       "\t<tr><td>Afghanistan</td><td>AFG        </td><td>1991       </td><td>17.80181   </td><td>4.054145   </td><td>2.134176   </td><td>3.822228   </td><td>0.5324973  </td><td>10.356968  </td><td>8.938897   </td><td>...        </td><td>0.02545063 </td><td>0.02917152 </td><td>0.1781074  </td><td>0.04203340 </td><td>0.1350081  </td><td>0.1706712  </td><td>0.1348266  </td><td>0.79760256 </td><td>2.044      </td><td>0.040      </td></tr>\n",
       "\t<tr><td>Afghanistan</td><td>AFG        </td><td>1992       </td><td>18.38683   </td><td>4.173959   </td><td>2.208298   </td><td>3.900125   </td><td>0.5400657  </td><td>10.095546  </td><td>8.841380   </td><td>...        </td><td>0.02612225 </td><td>0.02997300 </td><td>0.1768547  </td><td>0.04384267 </td><td>0.1345821  </td><td>0.1711713  </td><td>0.1390527  </td><td>0.34021024 </td><td>2.408      </td><td>0.027      </td></tr>\n",
       "\t<tr><td>Afghanistan</td><td>AFG        </td><td>1993       </td><td>18.95965   </td><td>4.269233   </td><td>2.283923   </td><td>3.974113   </td><td>0.5538130  </td><td> 9.873841  </td><td>8.676409   </td><td>...        </td><td>0.02704423 </td><td>0.03045612 </td><td>0.1734668  </td><td>0.04534956 </td><td>0.1338882  </td><td>0.1710318  </td><td>0.1501363  </td><td>0.11626285 </td><td>   NA      </td><td>   NA      </td></tr>\n",
       "\t<tr><td>Afghanistan</td><td>AFG        </td><td>1994       </td><td>19.08951   </td><td>4.256034   </td><td>2.307721   </td><td>3.968954   </td><td>0.5500870  </td><td> 9.530242  </td><td>8.384454   </td><td>...        </td><td>0.02717968 </td><td>0.03010292 </td><td>0.1651347  </td><td>0.04574391 </td><td>0.1304859  </td><td>0.1672626  </td><td>0.1489705  </td><td>0.07550558 </td><td>4.296      </td><td>0.010      </td></tr>\n",
       "\t<tr><td>Afghanistan</td><td>AFG        </td><td>1995       </td><td>19.85610   </td><td>4.394916   </td><td>2.412293   </td><td>4.105947   </td><td>0.5684839  </td><td> 9.602873  </td><td>8.424799   </td><td>...        </td><td>0.02846400 </td><td>0.03070893 </td><td>0.1653641  </td><td>0.04776985 </td><td>0.1319008  </td><td>0.1710916  </td><td>0.1567247  </td><td>0.17250905 </td><td>2.557      </td><td>0.002      </td></tr>\n",
       "</tbody>\n",
       "</table>\n"
      ],
      "text/latex": [
       "\\begin{tabular}{r|lllllllllllllllllllllllllllllllllll}\n",
       " ï..country & country\\_code & year & Cardiovascular.diseases.... & Cancers.... & Respiratory.diseases.... & Diabetes.... & Dementia.... & Lower.respiratory.infections.... & Neonatal.deaths.... & ... & Parkinson.disease.... & Alcohol.disorders.... & Intestinal.infectious.diseases.... & Drug.disorders.... & Hepatitis.... & Fire.... & Heat.related..hot.and.cold.exposure..... & Natural.disasters.... & Conflict.... & Terrorism....\\\\\n",
       "\\hline\n",
       "\t Afghanistan & AFG         & 1990        & 17.61040    & 4.025975    & 2.106626    & 3.832555    & 0.5314287   & 10.886362   & 9.184653    & ...         & 0.02515859  & 0.02899828  & 0.1833303   & 0.04120540  & 0.1387378   & 0.1741567   & 0.1378229   & 0.00000000  & 0.932       & 0.007      \\\\\n",
       "\t Afghanistan & AFG         & 1991        & 17.80181    & 4.054145    & 2.134176    & 3.822228    & 0.5324973   & 10.356968   & 8.938897    & ...         & 0.02545063  & 0.02917152  & 0.1781074   & 0.04203340  & 0.1350081   & 0.1706712   & 0.1348266   & 0.79760256  & 2.044       & 0.040      \\\\\n",
       "\t Afghanistan & AFG         & 1992        & 18.38683    & 4.173959    & 2.208298    & 3.900125    & 0.5400657   & 10.095546   & 8.841380    & ...         & 0.02612225  & 0.02997300  & 0.1768547   & 0.04384267  & 0.1345821   & 0.1711713   & 0.1390527   & 0.34021024  & 2.408       & 0.027      \\\\\n",
       "\t Afghanistan & AFG         & 1993        & 18.95965    & 4.269233    & 2.283923    & 3.974113    & 0.5538130   &  9.873841   & 8.676409    & ...         & 0.02704423  & 0.03045612  & 0.1734668   & 0.04534956  & 0.1338882   & 0.1710318   & 0.1501363   & 0.11626285  &    NA       &    NA      \\\\\n",
       "\t Afghanistan & AFG         & 1994        & 19.08951    & 4.256034    & 2.307721    & 3.968954    & 0.5500870   &  9.530242   & 8.384454    & ...         & 0.02717968  & 0.03010292  & 0.1651347   & 0.04574391  & 0.1304859   & 0.1672626   & 0.1489705   & 0.07550558  & 4.296       & 0.010      \\\\\n",
       "\t Afghanistan & AFG         & 1995        & 19.85610    & 4.394916    & 2.412293    & 4.105947    & 0.5684839   &  9.602873   & 8.424799    & ...         & 0.02846400  & 0.03070893  & 0.1653641   & 0.04776985  & 0.1319008   & 0.1710916   & 0.1567247   & 0.17250905  & 2.557       & 0.002      \\\\\n",
       "\\end{tabular}\n"
      ],
      "text/markdown": [
       "\n",
       "| ï..country | country_code | year | Cardiovascular.diseases.... | Cancers.... | Respiratory.diseases.... | Diabetes.... | Dementia.... | Lower.respiratory.infections.... | Neonatal.deaths.... | ... | Parkinson.disease.... | Alcohol.disorders.... | Intestinal.infectious.diseases.... | Drug.disorders.... | Hepatitis.... | Fire.... | Heat.related..hot.and.cold.exposure..... | Natural.disasters.... | Conflict.... | Terrorism.... |\n",
       "|---|---|---|---|---|---|---|---|---|---|---|---|---|---|---|---|---|---|---|---|---|\n",
       "| Afghanistan | AFG         | 1990        | 17.61040    | 4.025975    | 2.106626    | 3.832555    | 0.5314287   | 10.886362   | 9.184653    | ...         | 0.02515859  | 0.02899828  | 0.1833303   | 0.04120540  | 0.1387378   | 0.1741567   | 0.1378229   | 0.00000000  | 0.932       | 0.007       |\n",
       "| Afghanistan | AFG         | 1991        | 17.80181    | 4.054145    | 2.134176    | 3.822228    | 0.5324973   | 10.356968   | 8.938897    | ...         | 0.02545063  | 0.02917152  | 0.1781074   | 0.04203340  | 0.1350081   | 0.1706712   | 0.1348266   | 0.79760256  | 2.044       | 0.040       |\n",
       "| Afghanistan | AFG         | 1992        | 18.38683    | 4.173959    | 2.208298    | 3.900125    | 0.5400657   | 10.095546   | 8.841380    | ...         | 0.02612225  | 0.02997300  | 0.1768547   | 0.04384267  | 0.1345821   | 0.1711713   | 0.1390527   | 0.34021024  | 2.408       | 0.027       |\n",
       "| Afghanistan | AFG         | 1993        | 18.95965    | 4.269233    | 2.283923    | 3.974113    | 0.5538130   |  9.873841   | 8.676409    | ...         | 0.02704423  | 0.03045612  | 0.1734668   | 0.04534956  | 0.1338882   | 0.1710318   | 0.1501363   | 0.11626285  |    NA       |    NA       |\n",
       "| Afghanistan | AFG         | 1994        | 19.08951    | 4.256034    | 2.307721    | 3.968954    | 0.5500870   |  9.530242   | 8.384454    | ...         | 0.02717968  | 0.03010292  | 0.1651347   | 0.04574391  | 0.1304859   | 0.1672626   | 0.1489705   | 0.07550558  | 4.296       | 0.010       |\n",
       "| Afghanistan | AFG         | 1995        | 19.85610    | 4.394916    | 2.412293    | 4.105947    | 0.5684839   |  9.602873   | 8.424799    | ...         | 0.02846400  | 0.03070893  | 0.1653641   | 0.04776985  | 0.1319008   | 0.1710916   | 0.1567247   | 0.17250905  | 2.557       | 0.002       |\n",
       "\n"
      ],
      "text/plain": [
       "  ï..country  country_code year Cardiovascular.diseases.... Cancers....\n",
       "1 Afghanistan AFG          1990 17.61040                    4.025975   \n",
       "2 Afghanistan AFG          1991 17.80181                    4.054145   \n",
       "3 Afghanistan AFG          1992 18.38683                    4.173959   \n",
       "4 Afghanistan AFG          1993 18.95965                    4.269233   \n",
       "5 Afghanistan AFG          1994 19.08951                    4.256034   \n",
       "6 Afghanistan AFG          1995 19.85610                    4.394916   \n",
       "  Respiratory.diseases.... Diabetes.... Dementia....\n",
       "1 2.106626                 3.832555     0.5314287   \n",
       "2 2.134176                 3.822228     0.5324973   \n",
       "3 2.208298                 3.900125     0.5400657   \n",
       "4 2.283923                 3.974113     0.5538130   \n",
       "5 2.307721                 3.968954     0.5500870   \n",
       "6 2.412293                 4.105947     0.5684839   \n",
       "  Lower.respiratory.infections.... Neonatal.deaths.... ...\n",
       "1 10.886362                        9.184653            ...\n",
       "2 10.356968                        8.938897            ...\n",
       "3 10.095546                        8.841380            ...\n",
       "4  9.873841                        8.676409            ...\n",
       "5  9.530242                        8.384454            ...\n",
       "6  9.602873                        8.424799            ...\n",
       "  Parkinson.disease.... Alcohol.disorders....\n",
       "1 0.02515859            0.02899828           \n",
       "2 0.02545063            0.02917152           \n",
       "3 0.02612225            0.02997300           \n",
       "4 0.02704423            0.03045612           \n",
       "5 0.02717968            0.03010292           \n",
       "6 0.02846400            0.03070893           \n",
       "  Intestinal.infectious.diseases.... Drug.disorders.... Hepatitis.... Fire.... \n",
       "1 0.1833303                          0.04120540         0.1387378     0.1741567\n",
       "2 0.1781074                          0.04203340         0.1350081     0.1706712\n",
       "3 0.1768547                          0.04384267         0.1345821     0.1711713\n",
       "4 0.1734668                          0.04534956         0.1338882     0.1710318\n",
       "5 0.1651347                          0.04574391         0.1304859     0.1672626\n",
       "6 0.1653641                          0.04776985         0.1319008     0.1710916\n",
       "  Heat.related..hot.and.cold.exposure..... Natural.disasters.... Conflict....\n",
       "1 0.1378229                                0.00000000            0.932       \n",
       "2 0.1348266                                0.79760256            2.044       \n",
       "3 0.1390527                                0.34021024            2.408       \n",
       "4 0.1501363                                0.11626285               NA       \n",
       "5 0.1489705                                0.07550558            4.296       \n",
       "6 0.1567247                                0.17250905            2.557       \n",
       "  Terrorism....\n",
       "1 0.007        \n",
       "2 0.040        \n",
       "3 0.027        \n",
       "4    NA        \n",
       "5 0.010        \n",
       "6 0.002        "
      ]
     },
     "metadata": {},
     "output_type": "display_data"
    }
   ],
   "source": [
    "unique(head(death))"
   ]
  },
  {
   "cell_type": "code",
   "execution_count": 6,
   "metadata": {},
   "outputs": [
    {
     "data": {
      "text/html": [
       "<table>\n",
       "<thead><tr><th></th><th scope=col>ï..country</th><th scope=col>country_code</th><th scope=col>year</th><th scope=col>Cardiovascular.diseases....</th><th scope=col>Cancers....</th><th scope=col>Respiratory.diseases....</th><th scope=col>Diabetes....</th><th scope=col>Dementia....</th><th scope=col>Lower.respiratory.infections....</th><th scope=col>Neonatal.deaths....</th><th scope=col>...</th><th scope=col>Parkinson.disease....</th><th scope=col>Alcohol.disorders....</th><th scope=col>Intestinal.infectious.diseases....</th><th scope=col>Drug.disorders....</th><th scope=col>Hepatitis....</th><th scope=col>Fire....</th><th scope=col>Heat.related..hot.and.cold.exposure.....</th><th scope=col>Natural.disasters....</th><th scope=col>Conflict....</th><th scope=col>Terrorism....</th></tr></thead>\n",
       "<tbody>\n",
       "\t<tr><th scope=row>6151</th><td>Zimbabwe  </td><td>ZWE       </td><td>2011      </td><td> 9.016361 </td><td>6.885202  </td><td>1.945352  </td><td>3.873385  </td><td>0.7813141 </td><td>7.079424  </td><td>6.429077  </td><td>...       </td><td>0.05144403</td><td>0.1315390 </td><td>0.01400287</td><td>0.1290577 </td><td>0.04748536</td><td>0.3631256 </td><td>0.06360680</td><td>0.00000000</td><td>0         </td><td>0.000     </td></tr>\n",
       "\t<tr><th scope=row>6152</th><td>Zimbabwe  </td><td>ZWE       </td><td>2012      </td><td> 9.494667 </td><td>7.424647  </td><td>2.048418  </td><td>4.160501  </td><td>0.8589729 </td><td>7.281394  </td><td>6.727944  </td><td>...       </td><td>0.05683325</td><td>0.1408407 </td><td>0.01493515</td><td>0.1430716 </td><td>0.05004045</td><td>0.3841366 </td><td>0.07039009</td><td>0.00000000</td><td>0         </td><td>0.000     </td></tr>\n",
       "\t<tr><th scope=row>6153</th><td>Zimbabwe  </td><td>ZWE       </td><td>2013      </td><td> 9.808204 </td><td>7.853846  </td><td>2.112939  </td><td>4.388079  </td><td>0.9192394 </td><td>7.428584  </td><td>6.993560  </td><td>...       </td><td>0.06116970</td><td>0.1488182 </td><td>0.01560463</td><td>0.1556345 </td><td>0.05230040</td><td>0.3992964 </td><td>0.07373871</td><td>0.07892821</td><td>0         </td><td>0.001     </td></tr>\n",
       "\t<tr><th scope=row>6154</th><td>Zimbabwe  </td><td>ZWE       </td><td>2014      </td><td>10.388178 </td><td>8.466811  </td><td>2.218686  </td><td>4.739225  </td><td>0.9856182 </td><td>7.741096  </td><td>7.253743  </td><td>...       </td><td>0.06584521</td><td>0.1584534 </td><td>0.01665565</td><td>0.1715415 </td><td>0.05500882</td><td>0.4203817 </td><td>0.07494767</td><td>0.00000000</td><td>0         </td><td>0.000     </td></tr>\n",
       "\t<tr><th scope=row>6155</th><td>Zimbabwe  </td><td>ZWE       </td><td>2015      </td><td>10.796711 </td><td>9.017760  </td><td>2.301466  </td><td>5.040304  </td><td>1.0552329 </td><td>7.948665  </td><td>7.409477  </td><td>...       </td><td>0.07086420</td><td>0.1692259 </td><td>0.01722486</td><td>0.1879307 </td><td>0.05770614</td><td>0.4346479 </td><td>0.08667174</td><td>0.01090629</td><td>0         </td><td>0.000     </td></tr>\n",
       "\t<tr><th scope=row>6156</th><td>Zimbabwe  </td><td>ZWE       </td><td>2016      </td><td>11.191784 </td><td>9.522125  </td><td>2.374245  </td><td>5.322691  </td><td>1.1354958 </td><td>8.283028  </td><td>7.593128  </td><td>...       </td><td>0.07638097</td><td>0.1787227 </td><td>0.01793493</td><td>0.2038118 </td><td>0.06063151</td><td>0.4500464 </td><td>0.08931524</td><td>0.00000000</td><td>0         </td><td>0.000     </td></tr>\n",
       "</tbody>\n",
       "</table>\n"
      ],
      "text/latex": [
       "\\begin{tabular}{r|lllllllllllllllllllllllllllllllllll}\n",
       "  & ï..country & country\\_code & year & Cardiovascular.diseases.... & Cancers.... & Respiratory.diseases.... & Diabetes.... & Dementia.... & Lower.respiratory.infections.... & Neonatal.deaths.... & ... & Parkinson.disease.... & Alcohol.disorders.... & Intestinal.infectious.diseases.... & Drug.disorders.... & Hepatitis.... & Fire.... & Heat.related..hot.and.cold.exposure..... & Natural.disasters.... & Conflict.... & Terrorism....\\\\\n",
       "\\hline\n",
       "\t6151 & Zimbabwe   & ZWE        & 2011       &  9.016361  & 6.885202   & 1.945352   & 3.873385   & 0.7813141  & 7.079424   & 6.429077   & ...        & 0.05144403 & 0.1315390  & 0.01400287 & 0.1290577  & 0.04748536 & 0.3631256  & 0.06360680 & 0.00000000 & 0          & 0.000     \\\\\n",
       "\t6152 & Zimbabwe   & ZWE        & 2012       &  9.494667  & 7.424647   & 2.048418   & 4.160501   & 0.8589729  & 7.281394   & 6.727944   & ...        & 0.05683325 & 0.1408407  & 0.01493515 & 0.1430716  & 0.05004045 & 0.3841366  & 0.07039009 & 0.00000000 & 0          & 0.000     \\\\\n",
       "\t6153 & Zimbabwe   & ZWE        & 2013       &  9.808204  & 7.853846   & 2.112939   & 4.388079   & 0.9192394  & 7.428584   & 6.993560   & ...        & 0.06116970 & 0.1488182  & 0.01560463 & 0.1556345  & 0.05230040 & 0.3992964  & 0.07373871 & 0.07892821 & 0          & 0.001     \\\\\n",
       "\t6154 & Zimbabwe   & ZWE        & 2014       & 10.388178  & 8.466811   & 2.218686   & 4.739225   & 0.9856182  & 7.741096   & 7.253743   & ...        & 0.06584521 & 0.1584534  & 0.01665565 & 0.1715415  & 0.05500882 & 0.4203817  & 0.07494767 & 0.00000000 & 0          & 0.000     \\\\\n",
       "\t6155 & Zimbabwe   & ZWE        & 2015       & 10.796711  & 9.017760   & 2.301466   & 5.040304   & 1.0552329  & 7.948665   & 7.409477   & ...        & 0.07086420 & 0.1692259  & 0.01722486 & 0.1879307  & 0.05770614 & 0.4346479  & 0.08667174 & 0.01090629 & 0          & 0.000     \\\\\n",
       "\t6156 & Zimbabwe   & ZWE        & 2016       & 11.191784  & 9.522125   & 2.374245   & 5.322691   & 1.1354958  & 8.283028   & 7.593128   & ...        & 0.07638097 & 0.1787227  & 0.01793493 & 0.2038118  & 0.06063151 & 0.4500464  & 0.08931524 & 0.00000000 & 0          & 0.000     \\\\\n",
       "\\end{tabular}\n"
      ],
      "text/markdown": [
       "\n",
       "| <!--/--> | ï..country | country_code | year | Cardiovascular.diseases.... | Cancers.... | Respiratory.diseases.... | Diabetes.... | Dementia.... | Lower.respiratory.infections.... | Neonatal.deaths.... | ... | Parkinson.disease.... | Alcohol.disorders.... | Intestinal.infectious.diseases.... | Drug.disorders.... | Hepatitis.... | Fire.... | Heat.related..hot.and.cold.exposure..... | Natural.disasters.... | Conflict.... | Terrorism.... |\n",
       "|---|---|---|---|---|---|---|---|---|---|---|---|---|---|---|---|---|---|---|---|---|---|\n",
       "| 6151 | Zimbabwe   | ZWE        | 2011       |  9.016361  | 6.885202   | 1.945352   | 3.873385   | 0.7813141  | 7.079424   | 6.429077   | ...        | 0.05144403 | 0.1315390  | 0.01400287 | 0.1290577  | 0.04748536 | 0.3631256  | 0.06360680 | 0.00000000 | 0          | 0.000      |\n",
       "| 6152 | Zimbabwe   | ZWE        | 2012       |  9.494667  | 7.424647   | 2.048418   | 4.160501   | 0.8589729  | 7.281394   | 6.727944   | ...        | 0.05683325 | 0.1408407  | 0.01493515 | 0.1430716  | 0.05004045 | 0.3841366  | 0.07039009 | 0.00000000 | 0          | 0.000      |\n",
       "| 6153 | Zimbabwe   | ZWE        | 2013       |  9.808204  | 7.853846   | 2.112939   | 4.388079   | 0.9192394  | 7.428584   | 6.993560   | ...        | 0.06116970 | 0.1488182  | 0.01560463 | 0.1556345  | 0.05230040 | 0.3992964  | 0.07373871 | 0.07892821 | 0          | 0.001      |\n",
       "| 6154 | Zimbabwe   | ZWE        | 2014       | 10.388178  | 8.466811   | 2.218686   | 4.739225   | 0.9856182  | 7.741096   | 7.253743   | ...        | 0.06584521 | 0.1584534  | 0.01665565 | 0.1715415  | 0.05500882 | 0.4203817  | 0.07494767 | 0.00000000 | 0          | 0.000      |\n",
       "| 6155 | Zimbabwe   | ZWE        | 2015       | 10.796711  | 9.017760   | 2.301466   | 5.040304   | 1.0552329  | 7.948665   | 7.409477   | ...        | 0.07086420 | 0.1692259  | 0.01722486 | 0.1879307  | 0.05770614 | 0.4346479  | 0.08667174 | 0.01090629 | 0          | 0.000      |\n",
       "| 6156 | Zimbabwe   | ZWE        | 2016       | 11.191784  | 9.522125   | 2.374245   | 5.322691   | 1.1354958  | 8.283028   | 7.593128   | ...        | 0.07638097 | 0.1787227  | 0.01793493 | 0.2038118  | 0.06063151 | 0.4500464  | 0.08931524 | 0.00000000 | 0          | 0.000      |\n",
       "\n"
      ],
      "text/plain": [
       "     ï..country country_code year Cardiovascular.diseases.... Cancers....\n",
       "6151 Zimbabwe   ZWE          2011  9.016361                   6.885202   \n",
       "6152 Zimbabwe   ZWE          2012  9.494667                   7.424647   \n",
       "6153 Zimbabwe   ZWE          2013  9.808204                   7.853846   \n",
       "6154 Zimbabwe   ZWE          2014 10.388178                   8.466811   \n",
       "6155 Zimbabwe   ZWE          2015 10.796711                   9.017760   \n",
       "6156 Zimbabwe   ZWE          2016 11.191784                   9.522125   \n",
       "     Respiratory.diseases.... Diabetes.... Dementia....\n",
       "6151 1.945352                 3.873385     0.7813141   \n",
       "6152 2.048418                 4.160501     0.8589729   \n",
       "6153 2.112939                 4.388079     0.9192394   \n",
       "6154 2.218686                 4.739225     0.9856182   \n",
       "6155 2.301466                 5.040304     1.0552329   \n",
       "6156 2.374245                 5.322691     1.1354958   \n",
       "     Lower.respiratory.infections.... Neonatal.deaths.... ...\n",
       "6151 7.079424                         6.429077            ...\n",
       "6152 7.281394                         6.727944            ...\n",
       "6153 7.428584                         6.993560            ...\n",
       "6154 7.741096                         7.253743            ...\n",
       "6155 7.948665                         7.409477            ...\n",
       "6156 8.283028                         7.593128            ...\n",
       "     Parkinson.disease.... Alcohol.disorders....\n",
       "6151 0.05144403            0.1315390            \n",
       "6152 0.05683325            0.1408407            \n",
       "6153 0.06116970            0.1488182            \n",
       "6154 0.06584521            0.1584534            \n",
       "6155 0.07086420            0.1692259            \n",
       "6156 0.07638097            0.1787227            \n",
       "     Intestinal.infectious.diseases.... Drug.disorders.... Hepatitis....\n",
       "6151 0.01400287                         0.1290577          0.04748536   \n",
       "6152 0.01493515                         0.1430716          0.05004045   \n",
       "6153 0.01560463                         0.1556345          0.05230040   \n",
       "6154 0.01665565                         0.1715415          0.05500882   \n",
       "6155 0.01722486                         0.1879307          0.05770614   \n",
       "6156 0.01793493                         0.2038118          0.06063151   \n",
       "     Fire....  Heat.related..hot.and.cold.exposure..... Natural.disasters....\n",
       "6151 0.3631256 0.06360680                               0.00000000           \n",
       "6152 0.3841366 0.07039009                               0.00000000           \n",
       "6153 0.3992964 0.07373871                               0.07892821           \n",
       "6154 0.4203817 0.07494767                               0.00000000           \n",
       "6155 0.4346479 0.08667174                               0.01090629           \n",
       "6156 0.4500464 0.08931524                               0.00000000           \n",
       "     Conflict.... Terrorism....\n",
       "6151 0            0.000        \n",
       "6152 0            0.000        \n",
       "6153 0            0.001        \n",
       "6154 0            0.000        \n",
       "6155 0            0.000        \n",
       "6156 0            0.000        "
      ]
     },
     "metadata": {},
     "output_type": "display_data"
    }
   ],
   "source": [
    "tail(death)"
   ]
  },
  {
   "cell_type": "markdown",
   "metadata": {},
   "source": [
    "These table show the information both the head and the tail of this data. We can see the causes of the morality reported in the percentage."
   ]
  },
  {
   "cell_type": "markdown",
   "metadata": {},
   "source": [
    "### The number of rows"
   ]
  },
  {
   "cell_type": "code",
   "execution_count": 7,
   "metadata": {},
   "outputs": [
    {
     "data": {
      "text/html": [
       "6156"
      ],
      "text/latex": [
       "6156"
      ],
      "text/markdown": [
       "6156"
      ],
      "text/plain": [
       "[1] 6156"
      ]
     },
     "metadata": {},
     "output_type": "display_data"
    }
   ],
   "source": [
    "nrow(death)"
   ]
  },
  {
   "cell_type": "markdown",
   "metadata": {},
   "source": [
    "This data above shows numbers of sampling of dead people around the world since 1990 to 2016."
   ]
  },
  {
   "cell_type": "markdown",
   "metadata": {},
   "source": [
    "### The number of impartant parameters including types of causes of the death"
   ]
  },
  {
   "cell_type": "code",
   "execution_count": 8,
   "metadata": {},
   "outputs": [
    {
     "data": {
      "text/html": [
       "35"
      ],
      "text/latex": [
       "35"
      ],
      "text/markdown": [
       "35"
      ],
      "text/plain": [
       "[1] 35"
      ]
     },
     "metadata": {},
     "output_type": "display_data"
    }
   ],
   "source": [
    "ncol(death)"
   ]
  },
  {
   "cell_type": "markdown",
   "metadata": {},
   "source": [
    "This data above shows the number of rows of the causes of the morality table."
   ]
  },
  {
   "cell_type": "markdown",
   "metadata": {},
   "source": [
    "### The general keywords"
   ]
  },
  {
   "cell_type": "code",
   "execution_count": 139,
   "metadata": {
    "scrolled": true
   },
   "outputs": [
    {
     "data": {
      "text/html": [
       "<ol class=list-inline>\n",
       "\t<li>'ï..country'</li>\n",
       "\t<li>'country_code'</li>\n",
       "\t<li>'year'</li>\n",
       "\t<li>'Cardiovascular.diseases....'</li>\n",
       "\t<li>'Cancers....'</li>\n",
       "\t<li>'Respiratory.diseases....'</li>\n",
       "\t<li>'Diabetes....'</li>\n",
       "\t<li>'Dementia....'</li>\n",
       "\t<li>'Lower.respiratory.infections....'</li>\n",
       "\t<li>'Neonatal.deaths....'</li>\n",
       "\t<li>'Diarrheal.diseases....'</li>\n",
       "\t<li>'Road.accidents....'</li>\n",
       "\t<li>'Liver.disease....'</li>\n",
       "\t<li>'Tuberculosis....'</li>\n",
       "\t<li>'Kidney.disease....'</li>\n",
       "\t<li>'Digestive.diseases....'</li>\n",
       "\t<li>'HIV.AIDS....'</li>\n",
       "\t<li>'Suicide....'</li>\n",
       "\t<li>'Malaria....'</li>\n",
       "\t<li>'Homicide....'</li>\n",
       "\t<li>'Nutritional.deficiencies....'</li>\n",
       "\t<li>'Meningitis....'</li>\n",
       "\t<li>'Protein.energy.malnutrition....'</li>\n",
       "\t<li>'Drowning....'</li>\n",
       "\t<li>'Maternal.deaths....'</li>\n",
       "\t<li>'Parkinson.disease....'</li>\n",
       "\t<li>'Alcohol.disorders....'</li>\n",
       "\t<li>'Intestinal.infectious.diseases....'</li>\n",
       "\t<li>'Drug.disorders....'</li>\n",
       "\t<li>'Hepatitis....'</li>\n",
       "\t<li>'Fire....'</li>\n",
       "\t<li>'Heat.related..hot.and.cold.exposure.....'</li>\n",
       "\t<li>'Natural.disasters....'</li>\n",
       "\t<li>'Conflict....'</li>\n",
       "\t<li>'Terrorism....'</li>\n",
       "</ol>\n"
      ],
      "text/latex": [
       "\\begin{enumerate*}\n",
       "\\item 'ï..country'\n",
       "\\item 'country\\_code'\n",
       "\\item 'year'\n",
       "\\item 'Cardiovascular.diseases....'\n",
       "\\item 'Cancers....'\n",
       "\\item 'Respiratory.diseases....'\n",
       "\\item 'Diabetes....'\n",
       "\\item 'Dementia....'\n",
       "\\item 'Lower.respiratory.infections....'\n",
       "\\item 'Neonatal.deaths....'\n",
       "\\item 'Diarrheal.diseases....'\n",
       "\\item 'Road.accidents....'\n",
       "\\item 'Liver.disease....'\n",
       "\\item 'Tuberculosis....'\n",
       "\\item 'Kidney.disease....'\n",
       "\\item 'Digestive.diseases....'\n",
       "\\item 'HIV.AIDS....'\n",
       "\\item 'Suicide....'\n",
       "\\item 'Malaria....'\n",
       "\\item 'Homicide....'\n",
       "\\item 'Nutritional.deficiencies....'\n",
       "\\item 'Meningitis....'\n",
       "\\item 'Protein.energy.malnutrition....'\n",
       "\\item 'Drowning....'\n",
       "\\item 'Maternal.deaths....'\n",
       "\\item 'Parkinson.disease....'\n",
       "\\item 'Alcohol.disorders....'\n",
       "\\item 'Intestinal.infectious.diseases....'\n",
       "\\item 'Drug.disorders....'\n",
       "\\item 'Hepatitis....'\n",
       "\\item 'Fire....'\n",
       "\\item 'Heat.related..hot.and.cold.exposure.....'\n",
       "\\item 'Natural.disasters....'\n",
       "\\item 'Conflict....'\n",
       "\\item 'Terrorism....'\n",
       "\\end{enumerate*}\n"
      ],
      "text/markdown": [
       "1. 'ï..country'\n",
       "2. 'country_code'\n",
       "3. 'year'\n",
       "4. 'Cardiovascular.diseases....'\n",
       "5. 'Cancers....'\n",
       "6. 'Respiratory.diseases....'\n",
       "7. 'Diabetes....'\n",
       "8. 'Dementia....'\n",
       "9. 'Lower.respiratory.infections....'\n",
       "10. 'Neonatal.deaths....'\n",
       "11. 'Diarrheal.diseases....'\n",
       "12. 'Road.accidents....'\n",
       "13. 'Liver.disease....'\n",
       "14. 'Tuberculosis....'\n",
       "15. 'Kidney.disease....'\n",
       "16. 'Digestive.diseases....'\n",
       "17. 'HIV.AIDS....'\n",
       "18. 'Suicide....'\n",
       "19. 'Malaria....'\n",
       "20. 'Homicide....'\n",
       "21. 'Nutritional.deficiencies....'\n",
       "22. 'Meningitis....'\n",
       "23. 'Protein.energy.malnutrition....'\n",
       "24. 'Drowning....'\n",
       "25. 'Maternal.deaths....'\n",
       "26. 'Parkinson.disease....'\n",
       "27. 'Alcohol.disorders....'\n",
       "28. 'Intestinal.infectious.diseases....'\n",
       "29. 'Drug.disorders....'\n",
       "30. 'Hepatitis....'\n",
       "31. 'Fire....'\n",
       "32. 'Heat.related..hot.and.cold.exposure.....'\n",
       "33. 'Natural.disasters....'\n",
       "34. 'Conflict....'\n",
       "35. 'Terrorism....'\n",
       "\n",
       "\n"
      ],
      "text/plain": [
       " [1] \"ï..country\"                              \n",
       " [2] \"country_code\"                            \n",
       " [3] \"year\"                                    \n",
       " [4] \"Cardiovascular.diseases....\"             \n",
       " [5] \"Cancers....\"                             \n",
       " [6] \"Respiratory.diseases....\"                \n",
       " [7] \"Diabetes....\"                            \n",
       " [8] \"Dementia....\"                            \n",
       " [9] \"Lower.respiratory.infections....\"        \n",
       "[10] \"Neonatal.deaths....\"                     \n",
       "[11] \"Diarrheal.diseases....\"                  \n",
       "[12] \"Road.accidents....\"                      \n",
       "[13] \"Liver.disease....\"                       \n",
       "[14] \"Tuberculosis....\"                        \n",
       "[15] \"Kidney.disease....\"                      \n",
       "[16] \"Digestive.diseases....\"                  \n",
       "[17] \"HIV.AIDS....\"                            \n",
       "[18] \"Suicide....\"                             \n",
       "[19] \"Malaria....\"                             \n",
       "[20] \"Homicide....\"                            \n",
       "[21] \"Nutritional.deficiencies....\"            \n",
       "[22] \"Meningitis....\"                          \n",
       "[23] \"Protein.energy.malnutrition....\"         \n",
       "[24] \"Drowning....\"                            \n",
       "[25] \"Maternal.deaths....\"                     \n",
       "[26] \"Parkinson.disease....\"                   \n",
       "[27] \"Alcohol.disorders....\"                   \n",
       "[28] \"Intestinal.infectious.diseases....\"      \n",
       "[29] \"Drug.disorders....\"                      \n",
       "[30] \"Hepatitis....\"                           \n",
       "[31] \"Fire....\"                                \n",
       "[32] \"Heat.related..hot.and.cold.exposure.....\"\n",
       "[33] \"Natural.disasters....\"                   \n",
       "[34] \"Conflict....\"                            \n",
       "[35] \"Terrorism....\"                           "
      ]
     },
     "metadata": {},
     "output_type": "display_data"
    }
   ],
   "source": [
    "names(head(death))"
   ]
  },
  {
   "cell_type": "markdown",
   "metadata": {},
   "source": [
    "This description above tells us about the name of causes of the morality of people in the world in 1990 t0 2016."
   ]
  },
  {
   "cell_type": "markdown",
   "metadata": {},
   "source": [
    "##  <span style=color:blue> Data Cleaning"
   ]
  },
  {
   "cell_type": "markdown",
   "metadata": {},
   "source": [
    "### The percentage of having top 5 dangerous diseases in 195 countries"
   ]
  },
  {
   "cell_type": "code",
   "execution_count": 176,
   "metadata": {
    "scrolled": true
   },
   "outputs": [
    {
     "data": {
      "text/html": [
       "<table>\n",
       "<thead><tr><th scope=col>ï..country</th><th scope=col>year</th><th scope=col>Cancers....</th><th scope=col>HIV.AIDS....</th><th scope=col>Cardiovascular.diseases....</th><th scope=col>Diabetes....</th><th scope=col>Tuberculosis....</th><th scope=col>Fire....</th><th scope=col>Heat.related..hot.and.cold.exposure.....</th><th scope=col>Natural.disasters....</th><th scope=col>Conflict....</th><th scope=col>Terrorism....</th></tr></thead>\n",
       "<tbody>\n",
       "\t<tr><td>Afghanistan</td><td>1990       </td><td>4.025975   </td><td>0.01301948 </td><td>17.61040   </td><td>3.832555   </td><td>5.877075   </td><td>0.1741567  </td><td>0.1378229  </td><td>0.00000000 </td><td>0.932      </td><td>0.007      </td></tr>\n",
       "\t<tr><td>Afghanistan</td><td>1991       </td><td>4.054145   </td><td>0.01451458 </td><td>17.80181   </td><td>3.822228   </td><td>5.891704   </td><td>0.1706712  </td><td>0.1348266  </td><td>0.79760256 </td><td>2.044      </td><td>0.040      </td></tr>\n",
       "\t<tr><td>Afghanistan</td><td>1992       </td><td>4.173959   </td><td>0.01625828 </td><td>18.38683   </td><td>3.900125   </td><td>6.034669   </td><td>0.1711713  </td><td>0.1390527  </td><td>0.34021024 </td><td>2.408      </td><td>0.027      </td></tr>\n",
       "\t<tr><td>Afghanistan</td><td>1993       </td><td>4.269233   </td><td>0.01772127 </td><td>18.95965   </td><td>3.974113   </td><td>6.160951   </td><td>0.1710318  </td><td>0.1501363  </td><td>0.11626285 </td><td>   NA      </td><td>   NA      </td></tr>\n",
       "\t<tr><td>Afghanistan</td><td>1994       </td><td>4.256034   </td><td>0.01850569 </td><td>19.08951   </td><td>3.968954   </td><td>6.142278   </td><td>0.1672626  </td><td>0.1489705  </td><td>0.07550558 </td><td>4.296      </td><td>0.010      </td></tr>\n",
       "\t<tr><td>Afghanistan</td><td>1995       </td><td>4.394916   </td><td>0.01986514 </td><td>19.85610   </td><td>4.105947   </td><td>6.334052   </td><td>0.1710916  </td><td>0.1567247  </td><td>0.17250905 </td><td>2.557      </td><td>0.002      </td></tr>\n",
       "\t<tr><td>Afghanistan</td><td>1996       </td><td>4.481879   </td><td>0.02104183 </td><td>20.40614   </td><td>4.209154   </td><td>6.469086   </td><td>0.1730044  </td><td>0.1597923  </td><td>0.03125942 </td><td>1.574      </td><td>0.014      </td></tr>\n",
       "\t<tr><td>Afghanistan</td><td>1997       </td><td>4.445824   </td><td>0.02146873 </td><td>20.36310   </td><td>4.192323   </td><td>6.451817   </td><td>0.1718315  </td><td>0.1567954  </td><td>0.07284317 </td><td>2.876      </td><td>0.002      </td></tr>\n",
       "\t<tr><td>Afghanistan</td><td>1998       </td><td>4.263364   </td><td>0.02106856 </td><td>19.62352   </td><td>4.042126   </td><td>6.174043   </td><td>0.1633286  </td><td>0.1533649  </td><td>2.81092658 </td><td>4.844      </td><td>0.003      </td></tr>\n",
       "\t<tr><td>Afghanistan</td><td>1999       </td><td>4.572923   </td><td>0.02296866 </td><td>21.10799   </td><td>4.339258   </td><td>6.516175   </td><td>0.1725693  </td><td>0.1620004  </td><td>0.02911836 </td><td>2.079      </td><td>0.016      </td></tr>\n",
       "</tbody>\n",
       "</table>\n"
      ],
      "text/latex": [
       "\\begin{tabular}{r|llllllllllll}\n",
       " ï..country & year & Cancers.... & HIV.AIDS.... & Cardiovascular.diseases.... & Diabetes.... & Tuberculosis.... & Fire.... & Heat.related..hot.and.cold.exposure..... & Natural.disasters.... & Conflict.... & Terrorism....\\\\\n",
       "\\hline\n",
       "\t Afghanistan & 1990        & 4.025975    & 0.01301948  & 17.61040    & 3.832555    & 5.877075    & 0.1741567   & 0.1378229   & 0.00000000  & 0.932       & 0.007      \\\\\n",
       "\t Afghanistan & 1991        & 4.054145    & 0.01451458  & 17.80181    & 3.822228    & 5.891704    & 0.1706712   & 0.1348266   & 0.79760256  & 2.044       & 0.040      \\\\\n",
       "\t Afghanistan & 1992        & 4.173959    & 0.01625828  & 18.38683    & 3.900125    & 6.034669    & 0.1711713   & 0.1390527   & 0.34021024  & 2.408       & 0.027      \\\\\n",
       "\t Afghanistan & 1993        & 4.269233    & 0.01772127  & 18.95965    & 3.974113    & 6.160951    & 0.1710318   & 0.1501363   & 0.11626285  &    NA       &    NA      \\\\\n",
       "\t Afghanistan & 1994        & 4.256034    & 0.01850569  & 19.08951    & 3.968954    & 6.142278    & 0.1672626   & 0.1489705   & 0.07550558  & 4.296       & 0.010      \\\\\n",
       "\t Afghanistan & 1995        & 4.394916    & 0.01986514  & 19.85610    & 4.105947    & 6.334052    & 0.1710916   & 0.1567247   & 0.17250905  & 2.557       & 0.002      \\\\\n",
       "\t Afghanistan & 1996        & 4.481879    & 0.02104183  & 20.40614    & 4.209154    & 6.469086    & 0.1730044   & 0.1597923   & 0.03125942  & 1.574       & 0.014      \\\\\n",
       "\t Afghanistan & 1997        & 4.445824    & 0.02146873  & 20.36310    & 4.192323    & 6.451817    & 0.1718315   & 0.1567954   & 0.07284317  & 2.876       & 0.002      \\\\\n",
       "\t Afghanistan & 1998        & 4.263364    & 0.02106856  & 19.62352    & 4.042126    & 6.174043    & 0.1633286   & 0.1533649   & 2.81092658  & 4.844       & 0.003      \\\\\n",
       "\t Afghanistan & 1999        & 4.572923    & 0.02296866  & 21.10799    & 4.339258    & 6.516175    & 0.1725693   & 0.1620004   & 0.02911836  & 2.079       & 0.016      \\\\\n",
       "\\end{tabular}\n"
      ],
      "text/markdown": [
       "\n",
       "| ï..country | year | Cancers.... | HIV.AIDS.... | Cardiovascular.diseases.... | Diabetes.... | Tuberculosis.... | Fire.... | Heat.related..hot.and.cold.exposure..... | Natural.disasters.... | Conflict.... | Terrorism.... |\n",
       "|---|---|---|---|---|---|---|---|---|---|---|---|\n",
       "| Afghanistan | 1990        | 4.025975    | 0.01301948  | 17.61040    | 3.832555    | 5.877075    | 0.1741567   | 0.1378229   | 0.00000000  | 0.932       | 0.007       |\n",
       "| Afghanistan | 1991        | 4.054145    | 0.01451458  | 17.80181    | 3.822228    | 5.891704    | 0.1706712   | 0.1348266   | 0.79760256  | 2.044       | 0.040       |\n",
       "| Afghanistan | 1992        | 4.173959    | 0.01625828  | 18.38683    | 3.900125    | 6.034669    | 0.1711713   | 0.1390527   | 0.34021024  | 2.408       | 0.027       |\n",
       "| Afghanistan | 1993        | 4.269233    | 0.01772127  | 18.95965    | 3.974113    | 6.160951    | 0.1710318   | 0.1501363   | 0.11626285  |    NA       |    NA       |\n",
       "| Afghanistan | 1994        | 4.256034    | 0.01850569  | 19.08951    | 3.968954    | 6.142278    | 0.1672626   | 0.1489705   | 0.07550558  | 4.296       | 0.010       |\n",
       "| Afghanistan | 1995        | 4.394916    | 0.01986514  | 19.85610    | 4.105947    | 6.334052    | 0.1710916   | 0.1567247   | 0.17250905  | 2.557       | 0.002       |\n",
       "| Afghanistan | 1996        | 4.481879    | 0.02104183  | 20.40614    | 4.209154    | 6.469086    | 0.1730044   | 0.1597923   | 0.03125942  | 1.574       | 0.014       |\n",
       "| Afghanistan | 1997        | 4.445824    | 0.02146873  | 20.36310    | 4.192323    | 6.451817    | 0.1718315   | 0.1567954   | 0.07284317  | 2.876       | 0.002       |\n",
       "| Afghanistan | 1998        | 4.263364    | 0.02106856  | 19.62352    | 4.042126    | 6.174043    | 0.1633286   | 0.1533649   | 2.81092658  | 4.844       | 0.003       |\n",
       "| Afghanistan | 1999        | 4.572923    | 0.02296866  | 21.10799    | 4.339258    | 6.516175    | 0.1725693   | 0.1620004   | 0.02911836  | 2.079       | 0.016       |\n",
       "\n"
      ],
      "text/plain": [
       "   ï..country  year Cancers.... HIV.AIDS.... Cardiovascular.diseases....\n",
       "1  Afghanistan 1990 4.025975    0.01301948   17.61040                   \n",
       "2  Afghanistan 1991 4.054145    0.01451458   17.80181                   \n",
       "3  Afghanistan 1992 4.173959    0.01625828   18.38683                   \n",
       "4  Afghanistan 1993 4.269233    0.01772127   18.95965                   \n",
       "5  Afghanistan 1994 4.256034    0.01850569   19.08951                   \n",
       "6  Afghanistan 1995 4.394916    0.01986514   19.85610                   \n",
       "7  Afghanistan 1996 4.481879    0.02104183   20.40614                   \n",
       "8  Afghanistan 1997 4.445824    0.02146873   20.36310                   \n",
       "9  Afghanistan 1998 4.263364    0.02106856   19.62352                   \n",
       "10 Afghanistan 1999 4.572923    0.02296866   21.10799                   \n",
       "   Diabetes.... Tuberculosis.... Fire.... \n",
       "1  3.832555     5.877075         0.1741567\n",
       "2  3.822228     5.891704         0.1706712\n",
       "3  3.900125     6.034669         0.1711713\n",
       "4  3.974113     6.160951         0.1710318\n",
       "5  3.968954     6.142278         0.1672626\n",
       "6  4.105947     6.334052         0.1710916\n",
       "7  4.209154     6.469086         0.1730044\n",
       "8  4.192323     6.451817         0.1718315\n",
       "9  4.042126     6.174043         0.1633286\n",
       "10 4.339258     6.516175         0.1725693\n",
       "   Heat.related..hot.and.cold.exposure..... Natural.disasters.... Conflict....\n",
       "1  0.1378229                                0.00000000            0.932       \n",
       "2  0.1348266                                0.79760256            2.044       \n",
       "3  0.1390527                                0.34021024            2.408       \n",
       "4  0.1501363                                0.11626285               NA       \n",
       "5  0.1489705                                0.07550558            4.296       \n",
       "6  0.1567247                                0.17250905            2.557       \n",
       "7  0.1597923                                0.03125942            1.574       \n",
       "8  0.1567954                                0.07284317            2.876       \n",
       "9  0.1533649                                2.81092658            4.844       \n",
       "10 0.1620004                                0.02911836            2.079       \n",
       "   Terrorism....\n",
       "1  0.007        \n",
       "2  0.040        \n",
       "3  0.027        \n",
       "4     NA        \n",
       "5  0.010        \n",
       "6  0.002        \n",
       "7  0.014        \n",
       "8  0.002        \n",
       "9  0.003        \n",
       "10 0.016        "
      ]
     },
     "metadata": {},
     "output_type": "display_data"
    }
   ],
   "source": [
    "select <- unique(death[1:10, c(\"ï..country\",\"year\",\"Cancers....\",\"HIV.AIDS....\",\"Cardiovascular.diseases....\", \"Diabetes....\", \"Tuberculosis....\",\"Fire....\",\"Heat.related..hot.and.cold.exposure.....\",\"Natural.disasters....\",\"Conflict....\",\"Terrorism....\")])\n",
    "select"
   ]
  },
  {
   "cell_type": "markdown",
   "metadata": {},
   "source": [
    "This table above shows 5 severe diseases, which are difficult to be treated and they causes people lives shorter and 5 external causes of the death."
   ]
  },
  {
   "cell_type": "markdown",
   "metadata": {},
   "source": [
    "### The 5 internal causes of the death in 5 different countries."
   ]
  },
  {
   "cell_type": "code",
   "execution_count": 472,
   "metadata": {},
   "outputs": [
    {
     "data": {
      "text/html": [
       "<table>\n",
       "<thead><tr><th></th><th scope=col>ï..country</th><th scope=col>year</th><th scope=col>Cancers....</th><th scope=col>HIV.AIDS....</th><th scope=col>Cardiovascular.diseases....</th><th scope=col>Diabetes....</th><th scope=col>Tuberculosis....</th></tr></thead>\n",
       "<tbody>\n",
       "\t<tr><th scope=row>5779</th><td>United States</td><td>1990         </td><td>23.93591     </td><td>1.268313     </td><td>41.37764     </td><td>5.003982     </td><td>0.11009107   </td></tr>\n",
       "\t<tr><th scope=row>5780</th><td>United States</td><td>1991         </td><td>24.04454     </td><td>1.465765     </td><td>40.87089     </td><td>5.101206     </td><td>0.10452143   </td></tr>\n",
       "\t<tr><th scope=row>5781</th><td>United States</td><td>1992         </td><td>24.12819     </td><td>1.633756     </td><td>40.46246     </td><td>5.212819     </td><td>0.09891750   </td></tr>\n",
       "\t<tr><th scope=row>5782</th><td>United States</td><td>1993         </td><td>24.06982     </td><td>1.773118     </td><td>40.17190     </td><td>5.328724     </td><td>0.09330214   </td></tr>\n",
       "\t<tr><th scope=row>5783</th><td>United States</td><td>1994         </td><td>24.07197     </td><td>1.938093     </td><td>39.81520     </td><td>5.446778     </td><td>0.08715193   </td></tr>\n",
       "\t<tr><th scope=row>5784</th><td>United States</td><td>1995         </td><td>24.07212     </td><td>1.929143     </td><td>39.60338     </td><td>5.573813     </td><td>0.08152467   </td></tr>\n",
       "</tbody>\n",
       "</table>\n"
      ],
      "text/latex": [
       "\\begin{tabular}{r|lllllll}\n",
       "  & ï..country & year & Cancers.... & HIV.AIDS.... & Cardiovascular.diseases.... & Diabetes.... & Tuberculosis....\\\\\n",
       "\\hline\n",
       "\t5779 & United States & 1990          & 23.93591      & 1.268313      & 41.37764      & 5.003982      & 0.11009107   \\\\\n",
       "\t5780 & United States & 1991          & 24.04454      & 1.465765      & 40.87089      & 5.101206      & 0.10452143   \\\\\n",
       "\t5781 & United States & 1992          & 24.12819      & 1.633756      & 40.46246      & 5.212819      & 0.09891750   \\\\\n",
       "\t5782 & United States & 1993          & 24.06982      & 1.773118      & 40.17190      & 5.328724      & 0.09330214   \\\\\n",
       "\t5783 & United States & 1994          & 24.07197      & 1.938093      & 39.81520      & 5.446778      & 0.08715193   \\\\\n",
       "\t5784 & United States & 1995          & 24.07212      & 1.929143      & 39.60338      & 5.573813      & 0.08152467   \\\\\n",
       "\\end{tabular}\n"
      ],
      "text/markdown": [
       "\n",
       "| <!--/--> | ï..country | year | Cancers.... | HIV.AIDS.... | Cardiovascular.diseases.... | Diabetes.... | Tuberculosis.... |\n",
       "|---|---|---|---|---|---|---|---|\n",
       "| 5779 | United States | 1990          | 23.93591      | 1.268313      | 41.37764      | 5.003982      | 0.11009107    |\n",
       "| 5780 | United States | 1991          | 24.04454      | 1.465765      | 40.87089      | 5.101206      | 0.10452143    |\n",
       "| 5781 | United States | 1992          | 24.12819      | 1.633756      | 40.46246      | 5.212819      | 0.09891750    |\n",
       "| 5782 | United States | 1993          | 24.06982      | 1.773118      | 40.17190      | 5.328724      | 0.09330214    |\n",
       "| 5783 | United States | 1994          | 24.07197      | 1.938093      | 39.81520      | 5.446778      | 0.08715193    |\n",
       "| 5784 | United States | 1995          | 24.07212      | 1.929143      | 39.60338      | 5.573813      | 0.08152467    |\n",
       "\n"
      ],
      "text/plain": [
       "     ï..country    year Cancers.... HIV.AIDS.... Cardiovascular.diseases....\n",
       "5779 United States 1990 23.93591    1.268313     41.37764                   \n",
       "5780 United States 1991 24.04454    1.465765     40.87089                   \n",
       "5781 United States 1992 24.12819    1.633756     40.46246                   \n",
       "5782 United States 1993 24.06982    1.773118     40.17190                   \n",
       "5783 United States 1994 24.07197    1.938093     39.81520                   \n",
       "5784 United States 1995 24.07212    1.929143     39.60338                   \n",
       "     Diabetes.... Tuberculosis....\n",
       "5779 5.003982     0.11009107      \n",
       "5780 5.101206     0.10452143      \n",
       "5781 5.212819     0.09891750      \n",
       "5782 5.328724     0.09330214      \n",
       "5783 5.446778     0.08715193      \n",
       "5784 5.573813     0.08152467      "
      ]
     },
     "metadata": {},
     "output_type": "display_data"
    },
    {
     "data": {
      "text/html": [
       "<table>\n",
       "<thead><tr><th></th><th scope=col>ï..country</th><th scope=col>year</th><th scope=col>Cancers....</th><th scope=col>HIV.AIDS....</th><th scope=col>Cardiovascular.diseases....</th><th scope=col>Diabetes....</th><th scope=col>Tuberculosis....</th></tr></thead>\n",
       "<tbody>\n",
       "\t<tr><th scope=row>1945</th><td>France   </td><td>1990     </td><td>27.10975 </td><td>0.5493273</td><td>34.07554 </td><td>3.926773 </td><td>0.4522436</td></tr>\n",
       "\t<tr><th scope=row>1946</th><td>France   </td><td>1991     </td><td>27.37465 </td><td>0.7175285</td><td>33.64440 </td><td>3.904138 </td><td>0.4460537</td></tr>\n",
       "\t<tr><th scope=row>1947</th><td>France   </td><td>1992     </td><td>27.64643 </td><td>0.8330889</td><td>33.25775 </td><td>3.890925 </td><td>0.4437982</td></tr>\n",
       "\t<tr><th scope=row>1948</th><td>France   </td><td>1993     </td><td>27.77573 </td><td>0.9073490</td><td>33.02930 </td><td>3.927483 </td><td>0.4466862</td></tr>\n",
       "\t<tr><th scope=row>1949</th><td>France   </td><td>1994     </td><td>27.88690 </td><td>0.9769002</td><td>32.79334 </td><td>3.967141 </td><td>0.4469960</td></tr>\n",
       "\t<tr><th scope=row>1950</th><td>France   </td><td>1995     </td><td>27.90773 </td><td>0.9180038</td><td>32.80125 </td><td>4.033376 </td><td>0.4430137</td></tr>\n",
       "</tbody>\n",
       "</table>\n"
      ],
      "text/latex": [
       "\\begin{tabular}{r|lllllll}\n",
       "  & ï..country & year & Cancers.... & HIV.AIDS.... & Cardiovascular.diseases.... & Diabetes.... & Tuberculosis....\\\\\n",
       "\\hline\n",
       "\t1945 & France    & 1990      & 27.10975  & 0.5493273 & 34.07554  & 3.926773  & 0.4522436\\\\\n",
       "\t1946 & France    & 1991      & 27.37465  & 0.7175285 & 33.64440  & 3.904138  & 0.4460537\\\\\n",
       "\t1947 & France    & 1992      & 27.64643  & 0.8330889 & 33.25775  & 3.890925  & 0.4437982\\\\\n",
       "\t1948 & France    & 1993      & 27.77573  & 0.9073490 & 33.02930  & 3.927483  & 0.4466862\\\\\n",
       "\t1949 & France    & 1994      & 27.88690  & 0.9769002 & 32.79334  & 3.967141  & 0.4469960\\\\\n",
       "\t1950 & France    & 1995      & 27.90773  & 0.9180038 & 32.80125  & 4.033376  & 0.4430137\\\\\n",
       "\\end{tabular}\n"
      ],
      "text/markdown": [
       "\n",
       "| <!--/--> | ï..country | year | Cancers.... | HIV.AIDS.... | Cardiovascular.diseases.... | Diabetes.... | Tuberculosis.... |\n",
       "|---|---|---|---|---|---|---|---|\n",
       "| 1945 | France    | 1990      | 27.10975  | 0.5493273 | 34.07554  | 3.926773  | 0.4522436 |\n",
       "| 1946 | France    | 1991      | 27.37465  | 0.7175285 | 33.64440  | 3.904138  | 0.4460537 |\n",
       "| 1947 | France    | 1992      | 27.64643  | 0.8330889 | 33.25775  | 3.890925  | 0.4437982 |\n",
       "| 1948 | France    | 1993      | 27.77573  | 0.9073490 | 33.02930  | 3.927483  | 0.4466862 |\n",
       "| 1949 | France    | 1994      | 27.88690  | 0.9769002 | 32.79334  | 3.967141  | 0.4469960 |\n",
       "| 1950 | France    | 1995      | 27.90773  | 0.9180038 | 32.80125  | 4.033376  | 0.4430137 |\n",
       "\n"
      ],
      "text/plain": [
       "     ï..country year Cancers.... HIV.AIDS.... Cardiovascular.diseases....\n",
       "1945 France     1990 27.10975    0.5493273    34.07554                   \n",
       "1946 France     1991 27.37465    0.7175285    33.64440                   \n",
       "1947 France     1992 27.64643    0.8330889    33.25775                   \n",
       "1948 France     1993 27.77573    0.9073490    33.02930                   \n",
       "1949 France     1994 27.88690    0.9769002    32.79334                   \n",
       "1950 France     1995 27.90773    0.9180038    32.80125                   \n",
       "     Diabetes.... Tuberculosis....\n",
       "1945 3.926773     0.4522436       \n",
       "1946 3.904138     0.4460537       \n",
       "1947 3.890925     0.4437982       \n",
       "1948 3.927483     0.4466862       \n",
       "1949 3.967141     0.4469960       \n",
       "1950 4.033376     0.4430137       "
      ]
     },
     "metadata": {},
     "output_type": "display_data"
    },
    {
     "data": {
      "text/html": [
       "<table>\n",
       "<thead><tr><th></th><th scope=col>ï..country</th><th scope=col>year</th><th scope=col>Cancers....</th><th scope=col>HIV.AIDS....</th><th scope=col>Cardiovascular.diseases....</th><th scope=col>Diabetes....</th><th scope=col>Tuberculosis....</th></tr></thead>\n",
       "<tbody>\n",
       "\t<tr><th scope=row>5293</th><td>Switzerland</td><td>1990       </td><td>22.46406   </td><td>0.2539893  </td><td>43.24102   </td><td>3.462564   </td><td>0.1649725  </td></tr>\n",
       "\t<tr><th scope=row>5294</th><td>Switzerland</td><td>1991       </td><td>22.61434   </td><td>0.2962098  </td><td>42.85696   </td><td>3.507554   </td><td>0.1555710  </td></tr>\n",
       "\t<tr><th scope=row>5295</th><td>Switzerland</td><td>1992       </td><td>22.78489   </td><td>0.3493377  </td><td>42.47336   </td><td>3.551853   </td><td>0.1465373  </td></tr>\n",
       "\t<tr><th scope=row>5296</th><td>Switzerland</td><td>1993       </td><td>22.96979   </td><td>0.4147075  </td><td>42.16827   </td><td>3.639645   </td><td>0.1352388  </td></tr>\n",
       "\t<tr><th scope=row>5297</th><td>Switzerland</td><td>1994       </td><td>23.23253   </td><td>0.5111301  </td><td>41.75472   </td><td>3.766538   </td><td>0.1278389  </td></tr>\n",
       "\t<tr><th scope=row>5298</th><td>Switzerland</td><td>1995       </td><td>23.55878   </td><td>0.9259692  </td><td>41.20360   </td><td>4.062590   </td><td>0.1300596  </td></tr>\n",
       "</tbody>\n",
       "</table>\n"
      ],
      "text/latex": [
       "\\begin{tabular}{r|lllllll}\n",
       "  & ï..country & year & Cancers.... & HIV.AIDS.... & Cardiovascular.diseases.... & Diabetes.... & Tuberculosis....\\\\\n",
       "\\hline\n",
       "\t5293 & Switzerland & 1990        & 22.46406    & 0.2539893   & 43.24102    & 3.462564    & 0.1649725  \\\\\n",
       "\t5294 & Switzerland & 1991        & 22.61434    & 0.2962098   & 42.85696    & 3.507554    & 0.1555710  \\\\\n",
       "\t5295 & Switzerland & 1992        & 22.78489    & 0.3493377   & 42.47336    & 3.551853    & 0.1465373  \\\\\n",
       "\t5296 & Switzerland & 1993        & 22.96979    & 0.4147075   & 42.16827    & 3.639645    & 0.1352388  \\\\\n",
       "\t5297 & Switzerland & 1994        & 23.23253    & 0.5111301   & 41.75472    & 3.766538    & 0.1278389  \\\\\n",
       "\t5298 & Switzerland & 1995        & 23.55878    & 0.9259692   & 41.20360    & 4.062590    & 0.1300596  \\\\\n",
       "\\end{tabular}\n"
      ],
      "text/markdown": [
       "\n",
       "| <!--/--> | ï..country | year | Cancers.... | HIV.AIDS.... | Cardiovascular.diseases.... | Diabetes.... | Tuberculosis.... |\n",
       "|---|---|---|---|---|---|---|---|\n",
       "| 5293 | Switzerland | 1990        | 22.46406    | 0.2539893   | 43.24102    | 3.462564    | 0.1649725   |\n",
       "| 5294 | Switzerland | 1991        | 22.61434    | 0.2962098   | 42.85696    | 3.507554    | 0.1555710   |\n",
       "| 5295 | Switzerland | 1992        | 22.78489    | 0.3493377   | 42.47336    | 3.551853    | 0.1465373   |\n",
       "| 5296 | Switzerland | 1993        | 22.96979    | 0.4147075   | 42.16827    | 3.639645    | 0.1352388   |\n",
       "| 5297 | Switzerland | 1994        | 23.23253    | 0.5111301   | 41.75472    | 3.766538    | 0.1278389   |\n",
       "| 5298 | Switzerland | 1995        | 23.55878    | 0.9259692   | 41.20360    | 4.062590    | 0.1300596   |\n",
       "\n"
      ],
      "text/plain": [
       "     ï..country  year Cancers.... HIV.AIDS.... Cardiovascular.diseases....\n",
       "5293 Switzerland 1990 22.46406    0.2539893    43.24102                   \n",
       "5294 Switzerland 1991 22.61434    0.2962098    42.85696                   \n",
       "5295 Switzerland 1992 22.78489    0.3493377    42.47336                   \n",
       "5296 Switzerland 1993 22.96979    0.4147075    42.16827                   \n",
       "5297 Switzerland 1994 23.23253    0.5111301    41.75472                   \n",
       "5298 Switzerland 1995 23.55878    0.9259692    41.20360                   \n",
       "     Diabetes.... Tuberculosis....\n",
       "5293 3.462564     0.1649725       \n",
       "5294 3.507554     0.1555710       \n",
       "5295 3.551853     0.1465373       \n",
       "5296 3.639645     0.1352388       \n",
       "5297 3.766538     0.1278389       \n",
       "5298 4.062590     0.1300596       "
      ]
     },
     "metadata": {},
     "output_type": "display_data"
    },
    {
     "data": {
      "text/html": [
       "<table>\n",
       "<thead><tr><th></th><th scope=col>ï..country</th><th scope=col>year</th><th scope=col>Cancers....</th><th scope=col>HIV.AIDS....</th><th scope=col>Cardiovascular.diseases....</th><th scope=col>Diabetes....</th><th scope=col>Tuberculosis....</th></tr></thead>\n",
       "<tbody>\n",
       "\t<tr><th scope=row>730</th><td>Brazil   </td><td>1990     </td><td>11.59134 </td><td>0.8432028</td><td>28.89312 </td><td>4.979662 </td><td>0.8446657</td></tr>\n",
       "\t<tr><th scope=row>731</th><td>Brazil   </td><td>1991     </td><td>11.89921 </td><td>1.1088026</td><td>28.86983 </td><td>5.081497 </td><td>0.8436359</td></tr>\n",
       "\t<tr><th scope=row>732</th><td>Brazil   </td><td>1992     </td><td>12.20176 </td><td>1.3385434</td><td>29.03771 </td><td>5.221863 </td><td>0.8374770</td></tr>\n",
       "\t<tr><th scope=row>733</th><td>Brazil   </td><td>1993     </td><td>12.44393 </td><td>1.5969833</td><td>29.19238 </td><td>5.354451 </td><td>0.8314004</td></tr>\n",
       "\t<tr><th scope=row>734</th><td>Brazil   </td><td>1994     </td><td>12.74644 </td><td>1.8010570</td><td>29.26561 </td><td>5.497491 </td><td>0.8271660</td></tr>\n",
       "\t<tr><th scope=row>735</th><td>Brazil   </td><td>1995     </td><td>13.08305 </td><td>1.9728810</td><td>29.33913 </td><td>5.668030 </td><td>0.8151100</td></tr>\n",
       "</tbody>\n",
       "</table>\n"
      ],
      "text/latex": [
       "\\begin{tabular}{r|lllllll}\n",
       "  & ï..country & year & Cancers.... & HIV.AIDS.... & Cardiovascular.diseases.... & Diabetes.... & Tuberculosis....\\\\\n",
       "\\hline\n",
       "\t730 & Brazil    & 1990      & 11.59134  & 0.8432028 & 28.89312  & 4.979662  & 0.8446657\\\\\n",
       "\t731 & Brazil    & 1991      & 11.89921  & 1.1088026 & 28.86983  & 5.081497  & 0.8436359\\\\\n",
       "\t732 & Brazil    & 1992      & 12.20176  & 1.3385434 & 29.03771  & 5.221863  & 0.8374770\\\\\n",
       "\t733 & Brazil    & 1993      & 12.44393  & 1.5969833 & 29.19238  & 5.354451  & 0.8314004\\\\\n",
       "\t734 & Brazil    & 1994      & 12.74644  & 1.8010570 & 29.26561  & 5.497491  & 0.8271660\\\\\n",
       "\t735 & Brazil    & 1995      & 13.08305  & 1.9728810 & 29.33913  & 5.668030  & 0.8151100\\\\\n",
       "\\end{tabular}\n"
      ],
      "text/markdown": [
       "\n",
       "| <!--/--> | ï..country | year | Cancers.... | HIV.AIDS.... | Cardiovascular.diseases.... | Diabetes.... | Tuberculosis.... |\n",
       "|---|---|---|---|---|---|---|---|\n",
       "| 730 | Brazil    | 1990      | 11.59134  | 0.8432028 | 28.89312  | 4.979662  | 0.8446657 |\n",
       "| 731 | Brazil    | 1991      | 11.89921  | 1.1088026 | 28.86983  | 5.081497  | 0.8436359 |\n",
       "| 732 | Brazil    | 1992      | 12.20176  | 1.3385434 | 29.03771  | 5.221863  | 0.8374770 |\n",
       "| 733 | Brazil    | 1993      | 12.44393  | 1.5969833 | 29.19238  | 5.354451  | 0.8314004 |\n",
       "| 734 | Brazil    | 1994      | 12.74644  | 1.8010570 | 29.26561  | 5.497491  | 0.8271660 |\n",
       "| 735 | Brazil    | 1995      | 13.08305  | 1.9728810 | 29.33913  | 5.668030  | 0.8151100 |\n",
       "\n"
      ],
      "text/plain": [
       "    ï..country year Cancers.... HIV.AIDS.... Cardiovascular.diseases....\n",
       "730 Brazil     1990 11.59134    0.8432028    28.89312                   \n",
       "731 Brazil     1991 11.89921    1.1088026    28.86983                   \n",
       "732 Brazil     1992 12.20176    1.3385434    29.03771                   \n",
       "733 Brazil     1993 12.44393    1.5969833    29.19238                   \n",
       "734 Brazil     1994 12.74644    1.8010570    29.26561                   \n",
       "735 Brazil     1995 13.08305    1.9728810    29.33913                   \n",
       "    Diabetes.... Tuberculosis....\n",
       "730 4.979662     0.8446657       \n",
       "731 5.081497     0.8436359       \n",
       "732 5.221863     0.8374770       \n",
       "733 5.354451     0.8314004       \n",
       "734 5.497491     0.8271660       \n",
       "735 5.668030     0.8151100       "
      ]
     },
     "metadata": {},
     "output_type": "display_data"
    },
    {
     "data": {
      "text/html": [
       "<table>\n",
       "<thead><tr><th></th><th scope=col>ï..country</th><th scope=col>year</th><th scope=col>Cancers....</th><th scope=col>HIV.AIDS....</th><th scope=col>Cardiovascular.diseases....</th><th scope=col>Diabetes....</th><th scope=col>Tuberculosis....</th></tr></thead>\n",
       "<tbody>\n",
       "\t<tr><th scope=row>2917</th><td>Laos        </td><td>1990        </td><td>4.227791    </td><td>9.367250e-06</td><td>16.02770    </td><td>2.924664    </td><td>6.291989    </td></tr>\n",
       "\t<tr><th scope=row>2918</th><td>Laos        </td><td>1991        </td><td>4.307539    </td><td>1.798300e-04</td><td>16.30478    </td><td>3.006187    </td><td>6.294940    </td></tr>\n",
       "\t<tr><th scope=row>2919</th><td>Laos        </td><td>1992        </td><td>4.379759    </td><td>7.142780e-04</td><td>16.52255    </td><td>3.083717    </td><td>6.248648    </td></tr>\n",
       "\t<tr><th scope=row>2920</th><td>Laos        </td><td>1993        </td><td>4.447373    </td><td>1.688755e-03</td><td>16.69786    </td><td>3.155820    </td><td>6.168858    </td></tr>\n",
       "\t<tr><th scope=row>2921</th><td>Laos        </td><td>1994        </td><td>4.519130    </td><td>3.282556e-03</td><td>16.85618    </td><td>3.229338    </td><td>6.066945    </td></tr>\n",
       "\t<tr><th scope=row>2922</th><td>Laos        </td><td>1995        </td><td>4.657667    </td><td>5.947281e-03</td><td>17.22935    </td><td>3.349521    </td><td>6.042463    </td></tr>\n",
       "</tbody>\n",
       "</table>\n"
      ],
      "text/latex": [
       "\\begin{tabular}{r|lllllll}\n",
       "  & ï..country & year & Cancers.... & HIV.AIDS.... & Cardiovascular.diseases.... & Diabetes.... & Tuberculosis....\\\\\n",
       "\\hline\n",
       "\t2917 & Laos         & 1990         & 4.227791     & 9.367250e-06 & 16.02770     & 2.924664     & 6.291989    \\\\\n",
       "\t2918 & Laos         & 1991         & 4.307539     & 1.798300e-04 & 16.30478     & 3.006187     & 6.294940    \\\\\n",
       "\t2919 & Laos         & 1992         & 4.379759     & 7.142780e-04 & 16.52255     & 3.083717     & 6.248648    \\\\\n",
       "\t2920 & Laos         & 1993         & 4.447373     & 1.688755e-03 & 16.69786     & 3.155820     & 6.168858    \\\\\n",
       "\t2921 & Laos         & 1994         & 4.519130     & 3.282556e-03 & 16.85618     & 3.229338     & 6.066945    \\\\\n",
       "\t2922 & Laos         & 1995         & 4.657667     & 5.947281e-03 & 17.22935     & 3.349521     & 6.042463    \\\\\n",
       "\\end{tabular}\n"
      ],
      "text/markdown": [
       "\n",
       "| <!--/--> | ï..country | year | Cancers.... | HIV.AIDS.... | Cardiovascular.diseases.... | Diabetes.... | Tuberculosis.... |\n",
       "|---|---|---|---|---|---|---|---|\n",
       "| 2917 | Laos         | 1990         | 4.227791     | 9.367250e-06 | 16.02770     | 2.924664     | 6.291989     |\n",
       "| 2918 | Laos         | 1991         | 4.307539     | 1.798300e-04 | 16.30478     | 3.006187     | 6.294940     |\n",
       "| 2919 | Laos         | 1992         | 4.379759     | 7.142780e-04 | 16.52255     | 3.083717     | 6.248648     |\n",
       "| 2920 | Laos         | 1993         | 4.447373     | 1.688755e-03 | 16.69786     | 3.155820     | 6.168858     |\n",
       "| 2921 | Laos         | 1994         | 4.519130     | 3.282556e-03 | 16.85618     | 3.229338     | 6.066945     |\n",
       "| 2922 | Laos         | 1995         | 4.657667     | 5.947281e-03 | 17.22935     | 3.349521     | 6.042463     |\n",
       "\n"
      ],
      "text/plain": [
       "     ï..country year Cancers.... HIV.AIDS.... Cardiovascular.diseases....\n",
       "2917 Laos       1990 4.227791    9.367250e-06 16.02770                   \n",
       "2918 Laos       1991 4.307539    1.798300e-04 16.30478                   \n",
       "2919 Laos       1992 4.379759    7.142780e-04 16.52255                   \n",
       "2920 Laos       1993 4.447373    1.688755e-03 16.69786                   \n",
       "2921 Laos       1994 4.519130    3.282556e-03 16.85618                   \n",
       "2922 Laos       1995 4.657667    5.947281e-03 17.22935                   \n",
       "     Diabetes.... Tuberculosis....\n",
       "2917 2.924664     6.291989        \n",
       "2918 3.006187     6.294940        \n",
       "2919 3.083717     6.248648        \n",
       "2920 3.155820     6.168858        \n",
       "2921 3.229338     6.066945        \n",
       "2922 3.349521     6.042463        "
      ]
     },
     "metadata": {},
     "output_type": "display_data"
    }
   ],
   "source": [
    "US <-unique(death[5779:5805,c(\"ï..country\",\"year\",\"Cancers....\",\"HIV.AIDS....\",\"Cardiovascular.diseases....\", \"Diabetes....\", \"Tuberculosis....\")])\n",
    "head(US)\n",
    "\n",
    "France <- unique(death[1945:1971,c(\"ï..country\",\"year\",\"Cancers....\",\"HIV.AIDS....\",\"Cardiovascular.diseases....\", \"Diabetes....\", \"Tuberculosis....\")])\n",
    "head(France)\n",
    "\n",
    "Switz<-unique(death[5293:5319,c(\"ï..country\",\"year\",\"Cancers....\",\"HIV.AIDS....\",\"Cardiovascular.diseases....\", \"Diabetes....\", \"Tuberculosis....\")])\n",
    "head(Switz)\n",
    "\n",
    "Brazil <-unique(death[730:756,c(\"ï..country\",\"year\",\"Cancers....\",\"HIV.AIDS....\",\"Cardiovascular.diseases....\", \"Diabetes....\", \"Tuberculosis....\")])\n",
    "head(Brazil)\n",
    "\n",
    "Laos<-unique(death[2917:2943,c(\"ï..country\",\"year\",\"Cancers....\",\"HIV.AIDS....\",\"Cardiovascular.diseases....\", \"Diabetes....\", \"Tuberculosis....\")])\n",
    "head(Laos)\n"
   ]
  },
  {
   "cell_type": "markdown",
   "metadata": {},
   "source": [
    "Tables above demonstrate 5 internal causes of the death in developed countries, which are USA, Switzerland and France, a developing country, which is Brazil, and an undeveloped, which is Laos."
   ]
  },
  {
   "cell_type": "markdown",
   "metadata": {},
   "source": [
    "### The 5 internal causes of the death in 5 different countries presented in one table."
   ]
  },
  {
   "cell_type": "code",
   "execution_count": 473,
   "metadata": {},
   "outputs": [
    {
     "data": {
      "text/html": [
       "<table>\n",
       "<thead><tr><th></th><th scope=col>ï..country</th><th scope=col>year</th><th scope=col>Cancers....</th><th scope=col>HIV.AIDS....</th><th scope=col>Cardiovascular.diseases....</th><th scope=col>Diabetes....</th><th scope=col>Tuberculosis....</th></tr></thead>\n",
       "<tbody>\n",
       "\t<tr><th scope=row>5779</th><td>United States</td><td>1990         </td><td>23.93591     </td><td>1.268313     </td><td>41.37764     </td><td>5.003982     </td><td>0.11009107   </td></tr>\n",
       "\t<tr><th scope=row>5780</th><td>United States</td><td>1991         </td><td>24.04454     </td><td>1.465765     </td><td>40.87089     </td><td>5.101206     </td><td>0.10452143   </td></tr>\n",
       "\t<tr><th scope=row>5781</th><td>United States</td><td>1992         </td><td>24.12819     </td><td>1.633756     </td><td>40.46246     </td><td>5.212819     </td><td>0.09891750   </td></tr>\n",
       "\t<tr><th scope=row>5782</th><td>United States</td><td>1993         </td><td>24.06982     </td><td>1.773118     </td><td>40.17190     </td><td>5.328724     </td><td>0.09330214   </td></tr>\n",
       "\t<tr><th scope=row>5783</th><td>United States</td><td>1994         </td><td>24.07197     </td><td>1.938093     </td><td>39.81520     </td><td>5.446778     </td><td>0.08715193   </td></tr>\n",
       "\t<tr><th scope=row>5784</th><td>United States</td><td>1995         </td><td>24.07212     </td><td>1.929143     </td><td>39.60338     </td><td>5.573813     </td><td>0.08152467   </td></tr>\n",
       "</tbody>\n",
       "</table>\n"
      ],
      "text/latex": [
       "\\begin{tabular}{r|lllllll}\n",
       "  & ï..country & year & Cancers.... & HIV.AIDS.... & Cardiovascular.diseases.... & Diabetes.... & Tuberculosis....\\\\\n",
       "\\hline\n",
       "\t5779 & United States & 1990          & 23.93591      & 1.268313      & 41.37764      & 5.003982      & 0.11009107   \\\\\n",
       "\t5780 & United States & 1991          & 24.04454      & 1.465765      & 40.87089      & 5.101206      & 0.10452143   \\\\\n",
       "\t5781 & United States & 1992          & 24.12819      & 1.633756      & 40.46246      & 5.212819      & 0.09891750   \\\\\n",
       "\t5782 & United States & 1993          & 24.06982      & 1.773118      & 40.17190      & 5.328724      & 0.09330214   \\\\\n",
       "\t5783 & United States & 1994          & 24.07197      & 1.938093      & 39.81520      & 5.446778      & 0.08715193   \\\\\n",
       "\t5784 & United States & 1995          & 24.07212      & 1.929143      & 39.60338      & 5.573813      & 0.08152467   \\\\\n",
       "\\end{tabular}\n"
      ],
      "text/markdown": [
       "\n",
       "| <!--/--> | ï..country | year | Cancers.... | HIV.AIDS.... | Cardiovascular.diseases.... | Diabetes.... | Tuberculosis.... |\n",
       "|---|---|---|---|---|---|---|---|\n",
       "| 5779 | United States | 1990          | 23.93591      | 1.268313      | 41.37764      | 5.003982      | 0.11009107    |\n",
       "| 5780 | United States | 1991          | 24.04454      | 1.465765      | 40.87089      | 5.101206      | 0.10452143    |\n",
       "| 5781 | United States | 1992          | 24.12819      | 1.633756      | 40.46246      | 5.212819      | 0.09891750    |\n",
       "| 5782 | United States | 1993          | 24.06982      | 1.773118      | 40.17190      | 5.328724      | 0.09330214    |\n",
       "| 5783 | United States | 1994          | 24.07197      | 1.938093      | 39.81520      | 5.446778      | 0.08715193    |\n",
       "| 5784 | United States | 1995          | 24.07212      | 1.929143      | 39.60338      | 5.573813      | 0.08152467    |\n",
       "\n"
      ],
      "text/plain": [
       "     ï..country    year Cancers.... HIV.AIDS.... Cardiovascular.diseases....\n",
       "5779 United States 1990 23.93591    1.268313     41.37764                   \n",
       "5780 United States 1991 24.04454    1.465765     40.87089                   \n",
       "5781 United States 1992 24.12819    1.633756     40.46246                   \n",
       "5782 United States 1993 24.06982    1.773118     40.17190                   \n",
       "5783 United States 1994 24.07197    1.938093     39.81520                   \n",
       "5784 United States 1995 24.07212    1.929143     39.60338                   \n",
       "     Diabetes.... Tuberculosis....\n",
       "5779 5.003982     0.11009107      \n",
       "5780 5.101206     0.10452143      \n",
       "5781 5.212819     0.09891750      \n",
       "5782 5.328724     0.09330214      \n",
       "5783 5.446778     0.08715193      \n",
       "5784 5.573813     0.08152467      "
      ]
     },
     "metadata": {},
     "output_type": "display_data"
    }
   ],
   "source": [
    "total <- rbind(US, France, Switz, Brazil, Laos)\n",
    "head(total)"
   ]
  },
  {
   "cell_type": "markdown",
   "metadata": {},
   "source": [
    "Tables above demonstrate 5 internal causes of the death in developed countries, a developing country, and an undeveloped country."
   ]
  },
  {
   "cell_type": "markdown",
   "metadata": {},
   "source": [
    "## <span style=color:blue> Adaptation"
   ]
  },
  {
   "cell_type": "markdown",
   "metadata": {},
   "source": [
    "### Causes of the death of 195 countries in the world with 2 additional of internal and external causes columns"
   ]
  },
  {
   "cell_type": "code",
   "execution_count": 474,
   "metadata": {
    "scrolled": false
   },
   "outputs": [
    {
     "data": {
      "text/html": [
       "<table>\n",
       "<thead><tr><th scope=col>ï..country</th><th scope=col>year</th><th scope=col>Cancers....</th><th scope=col>HIV.AIDS....</th><th scope=col>Cardiovascular.diseases....</th><th scope=col>Diabetes....</th><th scope=col>Tuberculosis....</th><th scope=col>Fire....</th><th scope=col>Heat.related..hot.and.cold.exposure.....</th><th scope=col>Natural.disasters....</th><th scope=col>Conflict....</th><th scope=col>Terrorism....</th><th scope=col>Internal</th><th scope=col>External</th></tr></thead>\n",
       "<tbody>\n",
       "\t<tr><td>Afghanistan</td><td>1990       </td><td>4.025975   </td><td>0.01301948 </td><td>17.61040   </td><td>3.832555   </td><td>5.877075   </td><td>0.1741567  </td><td>0.1378229  </td><td>0.00000000 </td><td>0.932      </td><td>0.007      </td><td>31.35902   </td><td>1.250980   </td></tr>\n",
       "\t<tr><td>Afghanistan</td><td>1991       </td><td>4.054145   </td><td>0.01451458 </td><td>17.80181   </td><td>3.822228   </td><td>5.891704   </td><td>0.1706712  </td><td>0.1348266  </td><td>0.79760256 </td><td>2.044      </td><td>0.040      </td><td>31.58440   </td><td>3.187100   </td></tr>\n",
       "\t<tr><td>Afghanistan</td><td>1992       </td><td>4.173959   </td><td>0.01625828 </td><td>18.38683   </td><td>3.900125   </td><td>6.034669   </td><td>0.1711713  </td><td>0.1390527  </td><td>0.34021024 </td><td>2.408      </td><td>0.027      </td><td>32.51184   </td><td>3.085434   </td></tr>\n",
       "\t<tr><td>Afghanistan</td><td>1993       </td><td>4.269233   </td><td>0.01772127 </td><td>18.95965   </td><td>3.974113   </td><td>6.160951   </td><td>0.1710318  </td><td>0.1501363  </td><td>0.11626285 </td><td>   NA      </td><td>   NA      </td><td>33.38166   </td><td>      NA   </td></tr>\n",
       "\t<tr><td>Afghanistan</td><td>1994       </td><td>4.256034   </td><td>0.01850569 </td><td>19.08951   </td><td>3.968954   </td><td>6.142278   </td><td>0.1672626  </td><td>0.1489705  </td><td>0.07550558 </td><td>4.296      </td><td>0.010      </td><td>33.47528   </td><td>4.697739   </td></tr>\n",
       "\t<tr><td>Afghanistan</td><td>1995       </td><td>4.394916   </td><td>0.01986514 </td><td>19.85610   </td><td>4.105947   </td><td>6.334052   </td><td>0.1710916  </td><td>0.1567247  </td><td>0.17250905 </td><td>2.557      </td><td>0.002      </td><td>34.71088   </td><td>3.059325   </td></tr>\n",
       "</tbody>\n",
       "</table>\n"
      ],
      "text/latex": [
       "\\begin{tabular}{r|llllllllllllll}\n",
       " ï..country & year & Cancers.... & HIV.AIDS.... & Cardiovascular.diseases.... & Diabetes.... & Tuberculosis.... & Fire.... & Heat.related..hot.and.cold.exposure..... & Natural.disasters.... & Conflict.... & Terrorism.... & Internal & External\\\\\n",
       "\\hline\n",
       "\t Afghanistan & 1990        & 4.025975    & 0.01301948  & 17.61040    & 3.832555    & 5.877075    & 0.1741567   & 0.1378229   & 0.00000000  & 0.932       & 0.007       & 31.35902    & 1.250980   \\\\\n",
       "\t Afghanistan & 1991        & 4.054145    & 0.01451458  & 17.80181    & 3.822228    & 5.891704    & 0.1706712   & 0.1348266   & 0.79760256  & 2.044       & 0.040       & 31.58440    & 3.187100   \\\\\n",
       "\t Afghanistan & 1992        & 4.173959    & 0.01625828  & 18.38683    & 3.900125    & 6.034669    & 0.1711713   & 0.1390527   & 0.34021024  & 2.408       & 0.027       & 32.51184    & 3.085434   \\\\\n",
       "\t Afghanistan & 1993        & 4.269233    & 0.01772127  & 18.95965    & 3.974113    & 6.160951    & 0.1710318   & 0.1501363   & 0.11626285  &    NA       &    NA       & 33.38166    &       NA   \\\\\n",
       "\t Afghanistan & 1994        & 4.256034    & 0.01850569  & 19.08951    & 3.968954    & 6.142278    & 0.1672626   & 0.1489705   & 0.07550558  & 4.296       & 0.010       & 33.47528    & 4.697739   \\\\\n",
       "\t Afghanistan & 1995        & 4.394916    & 0.01986514  & 19.85610    & 4.105947    & 6.334052    & 0.1710916   & 0.1567247   & 0.17250905  & 2.557       & 0.002       & 34.71088    & 3.059325   \\\\\n",
       "\\end{tabular}\n"
      ],
      "text/markdown": [
       "\n",
       "| ï..country | year | Cancers.... | HIV.AIDS.... | Cardiovascular.diseases.... | Diabetes.... | Tuberculosis.... | Fire.... | Heat.related..hot.and.cold.exposure..... | Natural.disasters.... | Conflict.... | Terrorism.... | Internal | External |\n",
       "|---|---|---|---|---|---|---|---|---|---|---|---|---|---|\n",
       "| Afghanistan | 1990        | 4.025975    | 0.01301948  | 17.61040    | 3.832555    | 5.877075    | 0.1741567   | 0.1378229   | 0.00000000  | 0.932       | 0.007       | 31.35902    | 1.250980    |\n",
       "| Afghanistan | 1991        | 4.054145    | 0.01451458  | 17.80181    | 3.822228    | 5.891704    | 0.1706712   | 0.1348266   | 0.79760256  | 2.044       | 0.040       | 31.58440    | 3.187100    |\n",
       "| Afghanistan | 1992        | 4.173959    | 0.01625828  | 18.38683    | 3.900125    | 6.034669    | 0.1711713   | 0.1390527   | 0.34021024  | 2.408       | 0.027       | 32.51184    | 3.085434    |\n",
       "| Afghanistan | 1993        | 4.269233    | 0.01772127  | 18.95965    | 3.974113    | 6.160951    | 0.1710318   | 0.1501363   | 0.11626285  |    NA       |    NA       | 33.38166    |       NA    |\n",
       "| Afghanistan | 1994        | 4.256034    | 0.01850569  | 19.08951    | 3.968954    | 6.142278    | 0.1672626   | 0.1489705   | 0.07550558  | 4.296       | 0.010       | 33.47528    | 4.697739    |\n",
       "| Afghanistan | 1995        | 4.394916    | 0.01986514  | 19.85610    | 4.105947    | 6.334052    | 0.1710916   | 0.1567247   | 0.17250905  | 2.557       | 0.002       | 34.71088    | 3.059325    |\n",
       "\n"
      ],
      "text/plain": [
       "  ï..country  year Cancers.... HIV.AIDS.... Cardiovascular.diseases....\n",
       "1 Afghanistan 1990 4.025975    0.01301948   17.61040                   \n",
       "2 Afghanistan 1991 4.054145    0.01451458   17.80181                   \n",
       "3 Afghanistan 1992 4.173959    0.01625828   18.38683                   \n",
       "4 Afghanistan 1993 4.269233    0.01772127   18.95965                   \n",
       "5 Afghanistan 1994 4.256034    0.01850569   19.08951                   \n",
       "6 Afghanistan 1995 4.394916    0.01986514   19.85610                   \n",
       "  Diabetes.... Tuberculosis.... Fire.... \n",
       "1 3.832555     5.877075         0.1741567\n",
       "2 3.822228     5.891704         0.1706712\n",
       "3 3.900125     6.034669         0.1711713\n",
       "4 3.974113     6.160951         0.1710318\n",
       "5 3.968954     6.142278         0.1672626\n",
       "6 4.105947     6.334052         0.1710916\n",
       "  Heat.related..hot.and.cold.exposure..... Natural.disasters.... Conflict....\n",
       "1 0.1378229                                0.00000000            0.932       \n",
       "2 0.1348266                                0.79760256            2.044       \n",
       "3 0.1390527                                0.34021024            2.408       \n",
       "4 0.1501363                                0.11626285               NA       \n",
       "5 0.1489705                                0.07550558            4.296       \n",
       "6 0.1567247                                0.17250905            2.557       \n",
       "  Terrorism.... Internal External\n",
       "1 0.007         31.35902 1.250980\n",
       "2 0.040         31.58440 3.187100\n",
       "3 0.027         32.51184 3.085434\n",
       "4    NA         33.38166       NA\n",
       "5 0.010         33.47528 4.697739\n",
       "6 0.002         34.71088 3.059325"
      ]
     },
     "metadata": {},
     "output_type": "display_data"
    }
   ],
   "source": [
    "select[\"Internal\"] =select[\"Cancers....\"]+ select[\"HIV.AIDS....\"]+select[\"Cardiovascular.diseases....\"]+ select[\"Diabetes....\"]+select[\"Tuberculosis....\"]\n",
    "select[\"External\"] = select[\"Fire....\"]+ select[\"Heat.related..hot.and.cold.exposure.....\"]+select[\"Natural.disasters....\"]+select[\"Conflict....\"]+select[\"Terrorism....\"]\n",
    "select->A\n",
    "head(A)"
   ]
  },
  {
   "cell_type": "markdown",
   "metadata": {},
   "source": [
    "The table above shows us about causes of the death from both internal causes, most of which are from diseases.Also, and external causes, which are from the factors that we can't control such as Natural disaster, Cinflicts, Fire, and so on."
   ]
  },
  {
   "cell_type": "markdown",
   "metadata": {},
   "source": [
    "### Causes of the death of USA, Laos and Brazil  with 2 additional of internal and external causes columns"
   ]
  },
  {
   "cell_type": "code",
   "execution_count": 475,
   "metadata": {},
   "outputs": [
    {
     "data": {
      "text/html": [
       "<table>\n",
       "<thead><tr><th></th><th scope=col>ï..country</th><th scope=col>year</th><th scope=col>Cancers....</th><th scope=col>HIV.AIDS....</th><th scope=col>Cardiovascular.diseases....</th><th scope=col>Diabetes....</th><th scope=col>Tuberculosis....</th><th scope=col>Fire....</th><th scope=col>Heat.related..hot.and.cold.exposure.....</th><th scope=col>Natural.disasters....</th><th scope=col>Conflict....</th><th scope=col>Terrorism....</th><th scope=col>Internal</th><th scope=col>External</th></tr></thead>\n",
       "<tbody>\n",
       "\t<tr><th scope=row>5779</th><td>United States</td><td>1990         </td><td>23.93591     </td><td>1.268313     </td><td>41.37764     </td><td>5.003982     </td><td>0.11009107   </td><td>0.3103717    </td><td>0.07901434   </td><td>0.011185787  </td><td>0.000        </td><td>0.000        </td><td>71.69594     </td><td>0.4005718    </td></tr>\n",
       "\t<tr><th scope=row>5780</th><td>United States</td><td>1991         </td><td>24.04454     </td><td>1.465765     </td><td>40.87089     </td><td>5.101206     </td><td>0.10452143   </td><td>0.3037896    </td><td>0.07735597   </td><td>0.007692760  </td><td>0.007        </td><td>0.000        </td><td>71.58693     </td><td>0.3958383    </td></tr>\n",
       "\t<tr><th scope=row>5781</th><td>United States</td><td>1992         </td><td>24.12819     </td><td>1.633756     </td><td>40.46246     </td><td>5.212819     </td><td>0.09891750   </td><td>0.2962704    </td><td>0.07664920   </td><td>0.007346135  </td><td>0.000        </td><td>0.000        </td><td>71.53614     </td><td>0.3802657    </td></tr>\n",
       "\t<tr><th scope=row>5782</th><td>United States</td><td>1993         </td><td>24.06982     </td><td>1.773118     </td><td>40.17190     </td><td>5.328724     </td><td>0.09330214   </td><td>0.2896786    </td><td>0.07653730   </td><td>0.012668216  </td><td>   NA        </td><td>   NA        </td><td>71.43687     </td><td>       NA    </td></tr>\n",
       "\t<tr><th scope=row>5783</th><td>United States</td><td>1994         </td><td>24.07197     </td><td>1.938093     </td><td>39.81520     </td><td>5.446778     </td><td>0.08715193   </td><td>0.2835700    </td><td>0.07511684   </td><td>0.010716183  </td><td>0.000        </td><td>0.000        </td><td>71.35920     </td><td>0.3694030    </td></tr>\n",
       "\t<tr><th scope=row>5784</th><td>United States</td><td>1995         </td><td>24.07212     </td><td>1.929143     </td><td>39.60338     </td><td>5.573813     </td><td>0.08152467   </td><td>0.2777153    </td><td>0.07548673   </td><td>0.007596997  </td><td>0.000        </td><td>0.007        </td><td>71.25997     </td><td>0.3677991    </td></tr>\n",
       "</tbody>\n",
       "</table>\n"
      ],
      "text/latex": [
       "\\begin{tabular}{r|llllllllllllll}\n",
       "  & ï..country & year & Cancers.... & HIV.AIDS.... & Cardiovascular.diseases.... & Diabetes.... & Tuberculosis.... & Fire.... & Heat.related..hot.and.cold.exposure..... & Natural.disasters.... & Conflict.... & Terrorism.... & Internal & External\\\\\n",
       "\\hline\n",
       "\t5779 & United States & 1990          & 23.93591      & 1.268313      & 41.37764      & 5.003982      & 0.11009107    & 0.3103717     & 0.07901434    & 0.011185787   & 0.000         & 0.000         & 71.69594      & 0.4005718    \\\\\n",
       "\t5780 & United States & 1991          & 24.04454      & 1.465765      & 40.87089      & 5.101206      & 0.10452143    & 0.3037896     & 0.07735597    & 0.007692760   & 0.007         & 0.000         & 71.58693      & 0.3958383    \\\\\n",
       "\t5781 & United States & 1992          & 24.12819      & 1.633756      & 40.46246      & 5.212819      & 0.09891750    & 0.2962704     & 0.07664920    & 0.007346135   & 0.000         & 0.000         & 71.53614      & 0.3802657    \\\\\n",
       "\t5782 & United States & 1993          & 24.06982      & 1.773118      & 40.17190      & 5.328724      & 0.09330214    & 0.2896786     & 0.07653730    & 0.012668216   &    NA         &    NA         & 71.43687      &        NA    \\\\\n",
       "\t5783 & United States & 1994          & 24.07197      & 1.938093      & 39.81520      & 5.446778      & 0.08715193    & 0.2835700     & 0.07511684    & 0.010716183   & 0.000         & 0.000         & 71.35920      & 0.3694030    \\\\\n",
       "\t5784 & United States & 1995          & 24.07212      & 1.929143      & 39.60338      & 5.573813      & 0.08152467    & 0.2777153     & 0.07548673    & 0.007596997   & 0.000         & 0.007         & 71.25997      & 0.3677991    \\\\\n",
       "\\end{tabular}\n"
      ],
      "text/markdown": [
       "\n",
       "| <!--/--> | ï..country | year | Cancers.... | HIV.AIDS.... | Cardiovascular.diseases.... | Diabetes.... | Tuberculosis.... | Fire.... | Heat.related..hot.and.cold.exposure..... | Natural.disasters.... | Conflict.... | Terrorism.... | Internal | External |\n",
       "|---|---|---|---|---|---|---|---|---|---|---|---|---|---|---|\n",
       "| 5779 | United States | 1990          | 23.93591      | 1.268313      | 41.37764      | 5.003982      | 0.11009107    | 0.3103717     | 0.07901434    | 0.011185787   | 0.000         | 0.000         | 71.69594      | 0.4005718     |\n",
       "| 5780 | United States | 1991          | 24.04454      | 1.465765      | 40.87089      | 5.101206      | 0.10452143    | 0.3037896     | 0.07735597    | 0.007692760   | 0.007         | 0.000         | 71.58693      | 0.3958383     |\n",
       "| 5781 | United States | 1992          | 24.12819      | 1.633756      | 40.46246      | 5.212819      | 0.09891750    | 0.2962704     | 0.07664920    | 0.007346135   | 0.000         | 0.000         | 71.53614      | 0.3802657     |\n",
       "| 5782 | United States | 1993          | 24.06982      | 1.773118      | 40.17190      | 5.328724      | 0.09330214    | 0.2896786     | 0.07653730    | 0.012668216   |    NA         |    NA         | 71.43687      |        NA     |\n",
       "| 5783 | United States | 1994          | 24.07197      | 1.938093      | 39.81520      | 5.446778      | 0.08715193    | 0.2835700     | 0.07511684    | 0.010716183   | 0.000         | 0.000         | 71.35920      | 0.3694030     |\n",
       "| 5784 | United States | 1995          | 24.07212      | 1.929143      | 39.60338      | 5.573813      | 0.08152467    | 0.2777153     | 0.07548673    | 0.007596997   | 0.000         | 0.007         | 71.25997      | 0.3677991     |\n",
       "\n"
      ],
      "text/plain": [
       "     ï..country    year Cancers.... HIV.AIDS.... Cardiovascular.diseases....\n",
       "5779 United States 1990 23.93591    1.268313     41.37764                   \n",
       "5780 United States 1991 24.04454    1.465765     40.87089                   \n",
       "5781 United States 1992 24.12819    1.633756     40.46246                   \n",
       "5782 United States 1993 24.06982    1.773118     40.17190                   \n",
       "5783 United States 1994 24.07197    1.938093     39.81520                   \n",
       "5784 United States 1995 24.07212    1.929143     39.60338                   \n",
       "     Diabetes.... Tuberculosis.... Fire.... \n",
       "5779 5.003982     0.11009107       0.3103717\n",
       "5780 5.101206     0.10452143       0.3037896\n",
       "5781 5.212819     0.09891750       0.2962704\n",
       "5782 5.328724     0.09330214       0.2896786\n",
       "5783 5.446778     0.08715193       0.2835700\n",
       "5784 5.573813     0.08152467       0.2777153\n",
       "     Heat.related..hot.and.cold.exposure..... Natural.disasters....\n",
       "5779 0.07901434                               0.011185787          \n",
       "5780 0.07735597                               0.007692760          \n",
       "5781 0.07664920                               0.007346135          \n",
       "5782 0.07653730                               0.012668216          \n",
       "5783 0.07511684                               0.010716183          \n",
       "5784 0.07548673                               0.007596997          \n",
       "     Conflict.... Terrorism.... Internal External \n",
       "5779 0.000        0.000         71.69594 0.4005718\n",
       "5780 0.007        0.000         71.58693 0.3958383\n",
       "5781 0.000        0.000         71.53614 0.3802657\n",
       "5782    NA           NA         71.43687        NA\n",
       "5783 0.000        0.000         71.35920 0.3694030\n",
       "5784 0.000        0.007         71.25997 0.3677991"
      ]
     },
     "metadata": {},
     "output_type": "display_data"
    },
    {
     "data": {
      "text/html": [
       "<table>\n",
       "<thead><tr><th></th><th scope=col>ï..country</th><th scope=col>year</th><th scope=col>Cancers....</th><th scope=col>HIV.AIDS....</th><th scope=col>Cardiovascular.diseases....</th><th scope=col>Diabetes....</th><th scope=col>Tuberculosis....</th><th scope=col>Fire....</th><th scope=col>Heat.related..hot.and.cold.exposure.....</th><th scope=col>Natural.disasters....</th><th scope=col>Conflict....</th><th scope=col>Terrorism....</th><th scope=col>Internal</th><th scope=col>External</th></tr></thead>\n",
       "<tbody>\n",
       "\t<tr><th scope=row>2917</th><td>Laos        </td><td>1990        </td><td>4.227791    </td><td>9.367250e-06</td><td>16.02770    </td><td>2.924664    </td><td>6.291989    </td><td>0.5367027   </td><td>0.02983433  </td><td>0.00000000  </td><td>0.413       </td><td>0.000       </td><td>29.47215    </td><td>0.9795371   </td></tr>\n",
       "\t<tr><th scope=row>2918</th><td>Laos        </td><td>1991        </td><td>4.307539    </td><td>1.798300e-04</td><td>16.30478    </td><td>3.006187    </td><td>6.294940    </td><td>0.5391303   </td><td>0.03054450  </td><td>0.00000000  </td><td>0.000       </td><td>0.000       </td><td>29.91363    </td><td>0.5696748   </td></tr>\n",
       "\t<tr><th scope=row>2919</th><td>Laos        </td><td>1992        </td><td>4.379759    </td><td>7.142780e-04</td><td>16.52255    </td><td>3.083717    </td><td>6.248648    </td><td>0.5396512   </td><td>0.03125316  </td><td>0.05370792  </td><td>0.000       </td><td>0.005       </td><td>30.23539    </td><td>0.6296123   </td></tr>\n",
       "\t<tr><th scope=row>2920</th><td>Laos        </td><td>1993        </td><td>4.447373    </td><td>1.688755e-03</td><td>16.69786    </td><td>3.155820    </td><td>6.168858    </td><td>0.5388169   </td><td>0.03191838  </td><td>0.00000000  </td><td>   NA       </td><td>   NA       </td><td>30.47160    </td><td>       NA   </td></tr>\n",
       "\t<tr><th scope=row>2921</th><td>Laos        </td><td>1994        </td><td>4.519130    </td><td>3.282556e-03</td><td>16.85618    </td><td>3.229338    </td><td>6.066945    </td><td>0.5374051   </td><td>0.03259691  </td><td>0.00000000  </td><td>0.000       </td><td>0.003       </td><td>30.67488    </td><td>0.5730020   </td></tr>\n",
       "\t<tr><th scope=row>2922</th><td>Laos        </td><td>1995        </td><td>4.657667    </td><td>5.947281e-03</td><td>17.22935    </td><td>3.349521    </td><td>6.042463    </td><td>0.5435209   </td><td>0.03368379  </td><td>0.04272129  </td><td>0.000       </td><td>0.000       </td><td>31.28495    </td><td>0.6199260   </td></tr>\n",
       "</tbody>\n",
       "</table>\n"
      ],
      "text/latex": [
       "\\begin{tabular}{r|llllllllllllll}\n",
       "  & ï..country & year & Cancers.... & HIV.AIDS.... & Cardiovascular.diseases.... & Diabetes.... & Tuberculosis.... & Fire.... & Heat.related..hot.and.cold.exposure..... & Natural.disasters.... & Conflict.... & Terrorism.... & Internal & External\\\\\n",
       "\\hline\n",
       "\t2917 & Laos         & 1990         & 4.227791     & 9.367250e-06 & 16.02770     & 2.924664     & 6.291989     & 0.5367027    & 0.02983433   & 0.00000000   & 0.413        & 0.000        & 29.47215     & 0.9795371   \\\\\n",
       "\t2918 & Laos         & 1991         & 4.307539     & 1.798300e-04 & 16.30478     & 3.006187     & 6.294940     & 0.5391303    & 0.03054450   & 0.00000000   & 0.000        & 0.000        & 29.91363     & 0.5696748   \\\\\n",
       "\t2919 & Laos         & 1992         & 4.379759     & 7.142780e-04 & 16.52255     & 3.083717     & 6.248648     & 0.5396512    & 0.03125316   & 0.05370792   & 0.000        & 0.005        & 30.23539     & 0.6296123   \\\\\n",
       "\t2920 & Laos         & 1993         & 4.447373     & 1.688755e-03 & 16.69786     & 3.155820     & 6.168858     & 0.5388169    & 0.03191838   & 0.00000000   &    NA        &    NA        & 30.47160     &        NA   \\\\\n",
       "\t2921 & Laos         & 1994         & 4.519130     & 3.282556e-03 & 16.85618     & 3.229338     & 6.066945     & 0.5374051    & 0.03259691   & 0.00000000   & 0.000        & 0.003        & 30.67488     & 0.5730020   \\\\\n",
       "\t2922 & Laos         & 1995         & 4.657667     & 5.947281e-03 & 17.22935     & 3.349521     & 6.042463     & 0.5435209    & 0.03368379   & 0.04272129   & 0.000        & 0.000        & 31.28495     & 0.6199260   \\\\\n",
       "\\end{tabular}\n"
      ],
      "text/markdown": [
       "\n",
       "| <!--/--> | ï..country | year | Cancers.... | HIV.AIDS.... | Cardiovascular.diseases.... | Diabetes.... | Tuberculosis.... | Fire.... | Heat.related..hot.and.cold.exposure..... | Natural.disasters.... | Conflict.... | Terrorism.... | Internal | External |\n",
       "|---|---|---|---|---|---|---|---|---|---|---|---|---|---|---|\n",
       "| 2917 | Laos         | 1990         | 4.227791     | 9.367250e-06 | 16.02770     | 2.924664     | 6.291989     | 0.5367027    | 0.02983433   | 0.00000000   | 0.413        | 0.000        | 29.47215     | 0.9795371    |\n",
       "| 2918 | Laos         | 1991         | 4.307539     | 1.798300e-04 | 16.30478     | 3.006187     | 6.294940     | 0.5391303    | 0.03054450   | 0.00000000   | 0.000        | 0.000        | 29.91363     | 0.5696748    |\n",
       "| 2919 | Laos         | 1992         | 4.379759     | 7.142780e-04 | 16.52255     | 3.083717     | 6.248648     | 0.5396512    | 0.03125316   | 0.05370792   | 0.000        | 0.005        | 30.23539     | 0.6296123    |\n",
       "| 2920 | Laos         | 1993         | 4.447373     | 1.688755e-03 | 16.69786     | 3.155820     | 6.168858     | 0.5388169    | 0.03191838   | 0.00000000   |    NA        |    NA        | 30.47160     |        NA    |\n",
       "| 2921 | Laos         | 1994         | 4.519130     | 3.282556e-03 | 16.85618     | 3.229338     | 6.066945     | 0.5374051    | 0.03259691   | 0.00000000   | 0.000        | 0.003        | 30.67488     | 0.5730020    |\n",
       "| 2922 | Laos         | 1995         | 4.657667     | 5.947281e-03 | 17.22935     | 3.349521     | 6.042463     | 0.5435209    | 0.03368379   | 0.04272129   | 0.000        | 0.000        | 31.28495     | 0.6199260    |\n",
       "\n"
      ],
      "text/plain": [
       "     ï..country year Cancers.... HIV.AIDS.... Cardiovascular.diseases....\n",
       "2917 Laos       1990 4.227791    9.367250e-06 16.02770                   \n",
       "2918 Laos       1991 4.307539    1.798300e-04 16.30478                   \n",
       "2919 Laos       1992 4.379759    7.142780e-04 16.52255                   \n",
       "2920 Laos       1993 4.447373    1.688755e-03 16.69786                   \n",
       "2921 Laos       1994 4.519130    3.282556e-03 16.85618                   \n",
       "2922 Laos       1995 4.657667    5.947281e-03 17.22935                   \n",
       "     Diabetes.... Tuberculosis.... Fire.... \n",
       "2917 2.924664     6.291989         0.5367027\n",
       "2918 3.006187     6.294940         0.5391303\n",
       "2919 3.083717     6.248648         0.5396512\n",
       "2920 3.155820     6.168858         0.5388169\n",
       "2921 3.229338     6.066945         0.5374051\n",
       "2922 3.349521     6.042463         0.5435209\n",
       "     Heat.related..hot.and.cold.exposure..... Natural.disasters....\n",
       "2917 0.02983433                               0.00000000           \n",
       "2918 0.03054450                               0.00000000           \n",
       "2919 0.03125316                               0.05370792           \n",
       "2920 0.03191838                               0.00000000           \n",
       "2921 0.03259691                               0.00000000           \n",
       "2922 0.03368379                               0.04272129           \n",
       "     Conflict.... Terrorism.... Internal External \n",
       "2917 0.413        0.000         29.47215 0.9795371\n",
       "2918 0.000        0.000         29.91363 0.5696748\n",
       "2919 0.000        0.005         30.23539 0.6296123\n",
       "2920    NA           NA         30.47160        NA\n",
       "2921 0.000        0.003         30.67488 0.5730020\n",
       "2922 0.000        0.000         31.28495 0.6199260"
      ]
     },
     "metadata": {},
     "output_type": "display_data"
    },
    {
     "data": {
      "text/html": [
       "<table>\n",
       "<thead><tr><th></th><th scope=col>ï..country</th><th scope=col>year</th><th scope=col>Cancers....</th><th scope=col>HIV.AIDS....</th><th scope=col>Cardiovascular.diseases....</th><th scope=col>Diabetes....</th><th scope=col>Tuberculosis....</th><th scope=col>Fire....</th><th scope=col>Heat.related..hot.and.cold.exposure.....</th><th scope=col>Natural.disasters....</th><th scope=col>Conflict....</th><th scope=col>Terrorism....</th><th scope=col>Internal</th><th scope=col>External</th></tr></thead>\n",
       "<tbody>\n",
       "\t<tr><th scope=row>730</th><td>Brazil    </td><td>1990      </td><td>11.59134  </td><td>0.8432028 </td><td>28.89312  </td><td>4.979662  </td><td>0.8446657 </td><td>0.3035244 </td><td>0.05796799</td><td>0.02385038</td><td> 0        </td><td>0.000     </td><td>47.15199  </td><td>0.3853427 </td></tr>\n",
       "\t<tr><th scope=row>731</th><td>Brazil    </td><td>1991      </td><td>11.89921  </td><td>1.1088026 </td><td>28.86983  </td><td>5.081497  </td><td>0.8436359 </td><td>0.2990334 </td><td>0.05668318</td><td>0.01778044</td><td> 0        </td><td>0.001     </td><td>47.80297  </td><td>0.3744970 </td></tr>\n",
       "\t<tr><th scope=row>732</th><td>Brazil    </td><td>1992      </td><td>12.20176  </td><td>1.3385434 </td><td>29.03771  </td><td>5.221863  </td><td>0.8374770 </td><td>0.2857889 </td><td>0.05515589</td><td>0.02520201</td><td> 0        </td><td>0.003     </td><td>48.63736  </td><td>0.3691469 </td></tr>\n",
       "\t<tr><th scope=row>733</th><td>Brazil    </td><td>1993      </td><td>12.44393  </td><td>1.5969833 </td><td>29.19238  </td><td>5.354451  </td><td>0.8314004 </td><td>0.2749817 </td><td>0.05288793</td><td>0.02359053</td><td>NA        </td><td>   NA     </td><td>49.41914  </td><td>       NA </td></tr>\n",
       "\t<tr><th scope=row>734</th><td>Brazil    </td><td>1994      </td><td>12.74644  </td><td>1.8010570 </td><td>29.26561  </td><td>5.497491  </td><td>0.8271660 </td><td>0.2646193 </td><td>0.04978015</td><td>0.01587946</td><td> 0        </td><td>0.002     </td><td>50.13776  </td><td>0.3322789 </td></tr>\n",
       "\t<tr><th scope=row>735</th><td>Brazil    </td><td>1995      </td><td>13.08305  </td><td>1.9728810 </td><td>29.33913  </td><td>5.668030  </td><td>0.8151100 </td><td>0.2564478 </td><td>0.04563688</td><td>0.01401526</td><td> 0        </td><td>0.001     </td><td>50.87821  </td><td>0.3170999 </td></tr>\n",
       "</tbody>\n",
       "</table>\n"
      ],
      "text/latex": [
       "\\begin{tabular}{r|llllllllllllll}\n",
       "  & ï..country & year & Cancers.... & HIV.AIDS.... & Cardiovascular.diseases.... & Diabetes.... & Tuberculosis.... & Fire.... & Heat.related..hot.and.cold.exposure..... & Natural.disasters.... & Conflict.... & Terrorism.... & Internal & External\\\\\n",
       "\\hline\n",
       "\t730 & Brazil     & 1990       & 11.59134   & 0.8432028  & 28.89312   & 4.979662   & 0.8446657  & 0.3035244  & 0.05796799 & 0.02385038 &  0         & 0.000      & 47.15199   & 0.3853427 \\\\\n",
       "\t731 & Brazil     & 1991       & 11.89921   & 1.1088026  & 28.86983   & 5.081497   & 0.8436359  & 0.2990334  & 0.05668318 & 0.01778044 &  0         & 0.001      & 47.80297   & 0.3744970 \\\\\n",
       "\t732 & Brazil     & 1992       & 12.20176   & 1.3385434  & 29.03771   & 5.221863   & 0.8374770  & 0.2857889  & 0.05515589 & 0.02520201 &  0         & 0.003      & 48.63736   & 0.3691469 \\\\\n",
       "\t733 & Brazil     & 1993       & 12.44393   & 1.5969833  & 29.19238   & 5.354451   & 0.8314004  & 0.2749817  & 0.05288793 & 0.02359053 & NA         &    NA      & 49.41914   &        NA \\\\\n",
       "\t734 & Brazil     & 1994       & 12.74644   & 1.8010570  & 29.26561   & 5.497491   & 0.8271660  & 0.2646193  & 0.04978015 & 0.01587946 &  0         & 0.002      & 50.13776   & 0.3322789 \\\\\n",
       "\t735 & Brazil     & 1995       & 13.08305   & 1.9728810  & 29.33913   & 5.668030   & 0.8151100  & 0.2564478  & 0.04563688 & 0.01401526 &  0         & 0.001      & 50.87821   & 0.3170999 \\\\\n",
       "\\end{tabular}\n"
      ],
      "text/markdown": [
       "\n",
       "| <!--/--> | ï..country | year | Cancers.... | HIV.AIDS.... | Cardiovascular.diseases.... | Diabetes.... | Tuberculosis.... | Fire.... | Heat.related..hot.and.cold.exposure..... | Natural.disasters.... | Conflict.... | Terrorism.... | Internal | External |\n",
       "|---|---|---|---|---|---|---|---|---|---|---|---|---|---|---|\n",
       "| 730 | Brazil     | 1990       | 11.59134   | 0.8432028  | 28.89312   | 4.979662   | 0.8446657  | 0.3035244  | 0.05796799 | 0.02385038 |  0         | 0.000      | 47.15199   | 0.3853427  |\n",
       "| 731 | Brazil     | 1991       | 11.89921   | 1.1088026  | 28.86983   | 5.081497   | 0.8436359  | 0.2990334  | 0.05668318 | 0.01778044 |  0         | 0.001      | 47.80297   | 0.3744970  |\n",
       "| 732 | Brazil     | 1992       | 12.20176   | 1.3385434  | 29.03771   | 5.221863   | 0.8374770  | 0.2857889  | 0.05515589 | 0.02520201 |  0         | 0.003      | 48.63736   | 0.3691469  |\n",
       "| 733 | Brazil     | 1993       | 12.44393   | 1.5969833  | 29.19238   | 5.354451   | 0.8314004  | 0.2749817  | 0.05288793 | 0.02359053 | NA         |    NA      | 49.41914   |        NA  |\n",
       "| 734 | Brazil     | 1994       | 12.74644   | 1.8010570  | 29.26561   | 5.497491   | 0.8271660  | 0.2646193  | 0.04978015 | 0.01587946 |  0         | 0.002      | 50.13776   | 0.3322789  |\n",
       "| 735 | Brazil     | 1995       | 13.08305   | 1.9728810  | 29.33913   | 5.668030   | 0.8151100  | 0.2564478  | 0.04563688 | 0.01401526 |  0         | 0.001      | 50.87821   | 0.3170999  |\n",
       "\n"
      ],
      "text/plain": [
       "    ï..country year Cancers.... HIV.AIDS.... Cardiovascular.diseases....\n",
       "730 Brazil     1990 11.59134    0.8432028    28.89312                   \n",
       "731 Brazil     1991 11.89921    1.1088026    28.86983                   \n",
       "732 Brazil     1992 12.20176    1.3385434    29.03771                   \n",
       "733 Brazil     1993 12.44393    1.5969833    29.19238                   \n",
       "734 Brazil     1994 12.74644    1.8010570    29.26561                   \n",
       "735 Brazil     1995 13.08305    1.9728810    29.33913                   \n",
       "    Diabetes.... Tuberculosis.... Fire.... \n",
       "730 4.979662     0.8446657        0.3035244\n",
       "731 5.081497     0.8436359        0.2990334\n",
       "732 5.221863     0.8374770        0.2857889\n",
       "733 5.354451     0.8314004        0.2749817\n",
       "734 5.497491     0.8271660        0.2646193\n",
       "735 5.668030     0.8151100        0.2564478\n",
       "    Heat.related..hot.and.cold.exposure..... Natural.disasters.... Conflict....\n",
       "730 0.05796799                               0.02385038             0          \n",
       "731 0.05668318                               0.01778044             0          \n",
       "732 0.05515589                               0.02520201             0          \n",
       "733 0.05288793                               0.02359053            NA          \n",
       "734 0.04978015                               0.01587946             0          \n",
       "735 0.04563688                               0.01401526             0          \n",
       "    Terrorism.... Internal External \n",
       "730 0.000         47.15199 0.3853427\n",
       "731 0.001         47.80297 0.3744970\n",
       "732 0.003         48.63736 0.3691469\n",
       "733    NA         49.41914        NA\n",
       "734 0.002         50.13776 0.3322789\n",
       "735 0.001         50.87821 0.3170999"
      ]
     },
     "metadata": {},
     "output_type": "display_data"
    }
   ],
   "source": [
    "USA <- unique(death[5779:5805, c(\"ï..country\",\"year\",\"Cancers....\",\"HIV.AIDS....\",\"Cardiovascular.diseases....\", \"Diabetes....\", \"Tuberculosis....\",\"Fire....\",\"Heat.related..hot.and.cold.exposure.....\",\"Natural.disasters....\",\"Conflict....\",\"Terrorism....\")])\n",
    "USA[\"Internal\"] = USA[\"Cancers....\"]+ USA[\"HIV.AIDS....\"]+USA[\"Cardiovascular.diseases....\"]+ USA[\"Diabetes....\"]+USA[\"Tuberculosis....\"]\n",
    "USA[\"External\"] = USA[\"Fire....\"]+ USA[\"Heat.related..hot.and.cold.exposure.....\"]+USA[\"Natural.disasters....\"]+USA[\"Conflict....\"]+USA[\"Terrorism....\"]\n",
    "head(USA)\n",
    "\n",
    "LAOS <- unique(death[2917:2943, c(\"ï..country\",\"year\",\"Cancers....\",\"HIV.AIDS....\",\"Cardiovascular.diseases....\", \"Diabetes....\", \"Tuberculosis....\",\"Fire....\",\"Heat.related..hot.and.cold.exposure.....\",\"Natural.disasters....\",\"Conflict....\",\"Terrorism....\")])\n",
    "LAOS[\"Internal\"] = LAOS[\"Cancers....\"]+ LAOS[\"HIV.AIDS....\"]+LAOS[\"Cardiovascular.diseases....\"]+ LAOS[\"Diabetes....\"]+LAOS[\"Tuberculosis....\"]\n",
    "LAOS[\"External\"] = LAOS[\"Fire....\"]+ LAOS[\"Heat.related..hot.and.cold.exposure.....\"]+LAOS[\"Natural.disasters....\"]+LAOS[\"Conflict....\"]+LAOS[\"Terrorism....\"]\n",
    "head(LAOS)\n",
    "\n",
    "BZ <- unique(death[730:756, c(\"ï..country\",\"year\",\"Cancers....\",\"HIV.AIDS....\",\"Cardiovascular.diseases....\", \"Diabetes....\", \"Tuberculosis....\",\"Fire....\",\"Heat.related..hot.and.cold.exposure.....\",\"Natural.disasters....\",\"Conflict....\",\"Terrorism....\")])\n",
    "BZ[\"Internal\"] = BZ[\"Cancers....\"]+ BZ[\"HIV.AIDS....\"]+BZ[\"Cardiovascular.diseases....\"]+ BZ[\"Diabetes....\"]+BZ[\"Tuberculosis....\"]\n",
    "BZ[\"External\"] = BZ[\"Fire....\"]+ BZ[\"Heat.related..hot.and.cold.exposure.....\"]+BZ[\"Natural.disasters....\"]+BZ[\"Conflict....\"]+BZ[\"Terrorism....\"]\n",
    "head(BZ)"
   ]
  },
  {
   "cell_type": "markdown",
   "metadata": {},
   "source": [
    "The table above shows us about causes of the death from both internal causes in the US, most of which are from diseases.Also, and external causes, which are from the factors that we can't control such as Natural disaster, Cinflicts, Fire, and so on."
   ]
  },
  {
   "cell_type": "markdown",
   "metadata": {},
   "source": [
    "# _Visualization_"
   ]
  },
  {
   "cell_type": "markdown",
   "metadata": {},
   "source": [
    "## <span style=color:blue>Descriptive Visualization"
   ]
  },
  {
   "cell_type": "markdown",
   "metadata": {},
   "source": [
    "## Causes of the death in a developed, a developing and an undeveloped country in 1990-2016"
   ]
  },
  {
   "cell_type": "markdown",
   "metadata": {},
   "source": [
    "###  <span style=color:brown> * Causes of the death in USA as a developed country in past 27 years (1990-2016)"
   ]
  },
  {
   "cell_type": "code",
   "execution_count": 476,
   "metadata": {},
   "outputs": [
    {
     "data": {
      "image/png": "[encoded data removed]",
      "text/plain": [
       "Plot with title \"The death rate of USA natural disasters in 1990-2015\""
      ]
     },
     "metadata": {},
     "output_type": "display_data"
    }
   ],
   "source": [
    "par(mfrow= c(2,2))\n",
    "plot(USA$year, USA$Cancers, main = \"The death rate of USA Cancer in 1990-2015\" )\n",
    "plot(USA$year, USA$HIV.AIDS, main = \"The death rate of USA HIV/AIDS in 1990-2015\")\n",
    "plot(USA$year, USA$Cardiovascular.diseases, main = \"The death rate of USA Cardiovascular in 1990-2015\")\n",
    "plot(USA$year, USA$Natural.disasters, main = \"The death rate of USA natural disasters in 1990-2015\")"
   ]
  },
  {
   "cell_type": "markdown",
   "metadata": {},
   "source": [
    "From graphs above show the percentage of the death in USA, a developed country, within 27 years from 1990-2016.\n",
    "\n",
    "it can be cleary seen that the first graph illustrates the population of the death from cancers, which  increased dramatically through 2016. However, between 2000 and 2015, there was an decrease in the percantage of the death from cancers in the same population to lower than 24% before rising up to over  24.6% in 2illustrates 016. On the contrary, The second graph illustrates the population of the death from HIV/AIDS, which increased at the begining from over 1% to 2% before reaching the lowest point about lower than 0.5% in 2016 as well as the third graph  illustrates the population of the death from Cardiovascular diseases. Overall, the percantage of the death population gradually decreased from 1990 - 2016. Finally, the last graph  illustrates the percentage of the death population from Natural disasters remained unchanged over 27 years."
   ]
  },
  {
   "cell_type": "markdown",
   "metadata": {},
   "source": [
    "### <span style=color:brown> * Causes of the death in Brazil as a developing country in past 27 years (1990-2016)"
   ]
  },
  {
   "cell_type": "code",
   "execution_count": 477,
   "metadata": {},
   "outputs": [
    {
     "data": {
      "image/png": "[encoded data removed]",
      "text/plain": [
       "Plot with title \"The death rate of Brazil natural disasters in 1990-2015\""
      ]
     },
     "metadata": {},
     "output_type": "display_data"
    }
   ],
   "source": [
    "par(mfrow= c(2,2))\n",
    "plot(BZ$year, BZ$Cancers, main = \"The death rate of Brazil Cancer in 1990-2015\" )\n",
    "plot(BZ$year, BZ$HIV.AIDS, main = \"The death rate of Brazil HIV/AIDS in 1990-2015\")\n",
    "plot(BZ$year, BZ$Cardiovascular.diseases, main = \"The death rate of Brazil Cardiovascular in 1990-2015\")\n",
    "plot(BZ$year, BZ$Natural.disasters, main = \"The death rate of Brazil natural disasters in 1990-2015\")"
   ]
  },
  {
   "cell_type": "markdown",
   "metadata": {},
   "source": [
    "From graphs above show the percentage of the death in Brazil, a developing country, within 27 years from 1990-2016.\n",
    "\n",
    "it can be cleary seen that the first graph illustrates the population of the death from cancers increased gradually through 2016 from under 12% to over 17%. Furthermore, The second graph illustrates the population of the death from HIV/AIDS reached the highest point at 2% before increasing gradually to 1.2% in 2016. Meanwhile, the third graph  illustrates the population of the death from Cardiovascular diseases gradually increased and reached the highest point at over 30% before reaching the lowest point under 28% in 2016. Finally, the last graph  illustrates the percentage of the death population from Natural disasters remained unchanged over 27 years as USA. "
   ]
  },
  {
   "cell_type": "markdown",
   "metadata": {},
   "source": [
    "###  <span style=color:brown> *  Causes of the death in Laos as an undeveloped country in past 27 years (1990-2016)"
   ]
  },
  {
   "cell_type": "code",
   "execution_count": 532,
   "metadata": {},
   "outputs": [
    {
     "data": {
      "image/png": "[encoded data removed]",
      "text/plain": [
       "Plot with title \"The death rate of Laos natural disasters in 1990-2015\""
      ]
     },
     "metadata": {},
     "output_type": "display_data"
    }
   ],
   "source": [
    "par(mfrow= c(2,2))\n",
    "plot(LAOS$year, LAOS$Cancers, main = \"The death rate of Laos Cancer in 1990-2015\" )\n",
    "plot(LAOS$year, LAOS$HIV.AIDS, main = \"The death rate of Laos HIV/AIDS in 1990-2015\")\n",
    "plot(LAOS$year, LAOS$Cardiovascular.diseases, main = \"The death rate of Laos Cardiovascular in 1990-2015\")\n",
    "plot(LAOS$year, LAOS$Natural.disasters, main = \"The death rate of Laos natural disasters in 1990-2015\")"
   ]
  },
  {
   "cell_type": "markdown",
   "metadata": {},
   "source": [
    "From graphs above show the percentage of the death in Laos, an undeveloed country, within 27 years from 1990-2016.\n",
    "\n",
    "it can be cleary seen that the first 3 graphs illustrates the percentage of the death population from cancers,HIV/AID, Cardiovascular shared the same trend, which increased gradually until 2016(about from 5% to 9%, o to 0.8%, and 16 to 26%, respectively). Meanwhile, the percentage of the death population from Natural disasters remained unchanged over 27 years. "
   ]
  },
  {
   "cell_type": "markdown",
   "metadata": {},
   "source": [
    "## The death rate in Switzerland with 5 severe diseases in 2016"
   ]
  },
  {
   "cell_type": "code",
   "execution_count": 464,
   "metadata": {},
   "outputs": [
    {
     "data": {
      "text/html": [
       "<table>\n",
       "<thead><tr><th></th><th scope=col>year</th><th scope=col>Cancers....</th><th scope=col>HIV.AIDS....</th><th scope=col>Cardiovascular.diseases....</th><th scope=col>Diabetes....</th><th scope=col>Tuberculosis....</th></tr></thead>\n",
       "<tbody>\n",
       "\t<tr><th scope=row>5319</th><td>2016      </td><td>26.35945  </td><td>0.06084086</td><td>34.42206  </td><td>5.270243  </td><td>0.05672101</td></tr>\n",
       "</tbody>\n",
       "</table>\n"
      ],
      "text/latex": [
       "\\begin{tabular}{r|llllll}\n",
       "  & year & Cancers.... & HIV.AIDS.... & Cardiovascular.diseases.... & Diabetes.... & Tuberculosis....\\\\\n",
       "\\hline\n",
       "\t5319 & 2016       & 26.35945   & 0.06084086 & 34.42206   & 5.270243   & 0.05672101\\\\\n",
       "\\end{tabular}\n"
      ],
      "text/markdown": [
       "\n",
       "| <!--/--> | year | Cancers.... | HIV.AIDS.... | Cardiovascular.diseases.... | Diabetes.... | Tuberculosis.... |\n",
       "|---|---|---|---|---|---|---|\n",
       "| 5319 | 2016       | 26.35945   | 0.06084086 | 34.42206   | 5.270243   | 0.05672101 |\n",
       "\n"
      ],
      "text/plain": [
       "     year Cancers.... HIV.AIDS.... Cardiovascular.diseases.... Diabetes....\n",
       "5319 2016 26.35945    0.06084086   34.42206                    5.270243    \n",
       "     Tuberculosis....\n",
       "5319 0.05672101      "
      ]
     },
     "metadata": {},
     "output_type": "display_data"
    },
    {
     "data": {
      "image/png": "[encoded data removed]",
      "text/plain": [
       "Plot with title \"The percentage of the death in Switzerland from 5  diseases in 2016\""
      ]
     },
     "metadata": {},
     "output_type": "display_data"
    }
   ],
   "source": [
    "library(ggplot2)\n",
    "SW<-Switz[which(Switz$year == \"2016\"),names(Switz) %in% c(\"year\",\"Cancers....\",\"HIV.AIDS....\",\"Cardiovascular.diseases....\", \"Diabetes....\", \"Tuberculosis....\")]\n",
    "SW\n",
    "data = c(26.35945, 0.06084086,34.42206, 5.270243, 0.05672101)\n",
    "pct = (data/sum(data))*100\n",
    "pct = round(pct,2)\n",
    "labels = c(\"Cancers....\",\"HIV.AIDS....\",\"Cardiovascular.diseases....\", \"Diabetes....\", \"Tuberculosis....\")\n",
    "labels = paste(labels,pct, \"%\")\n",
    "\n",
    "col = c(\"purple\", \"violetred1\", \"pink\",\"green\", \"cyan\")\n",
    "pie(pct,col = col, radius = 1, init.angle = 90, clockwise = TRUE, \n",
    "\n",
    "    labels =labels, main = \"The percentage of the death in Switzerland from 5  diseases in 2016\")"
   ]
  },
  {
   "cell_type": "markdown",
   "metadata": {},
   "source": [
    "This pie chart compared the percentage of the Switzerland death population in 5 dangerous diseaese, which are Cancers, HIV.AIDS, Cardiovascular.diseases, Diabetes, and Tuberculosis in 2016. We found that the percentage of the death population having cardiovascular diseases was the highest, which was about 52% in the total percentage of 5 dangerous in this country. Following by cancers, and Diabetes were reported over 40%,7.96%(respectively). Meanwhile, there were a few of the percentage of HIV/AIDS and Tuberculosis. "
   ]
  },
  {
   "cell_type": "markdown",
   "metadata": {},
   "source": [
    "## The death rate from cancers in Laos diseases in 1990-2016"
   ]
  },
  {
   "cell_type": "code",
   "execution_count": 494,
   "metadata": {
    "scrolled": true
   },
   "outputs": [
    {
     "data": {
      "text/html": [
       "<table>\n",
       "<thead><tr><th></th><th scope=col>ï..country</th><th scope=col>year</th><th scope=col>Cancers....</th><th scope=col>HIV.AIDS....</th><th scope=col>Cardiovascular.diseases....</th><th scope=col>Diabetes....</th><th scope=col>Tuberculosis....</th></tr></thead>\n",
       "<tbody>\n",
       "\t<tr><th scope=row>2917</th><td>Laos        </td><td>1990        </td><td>4.227791    </td><td>9.367250e-06</td><td>16.02770    </td><td>2.924664    </td><td>6.291989    </td></tr>\n",
       "\t<tr><th scope=row>2918</th><td>Laos        </td><td>1991        </td><td>4.307539    </td><td>1.798300e-04</td><td>16.30478    </td><td>3.006187    </td><td>6.294940    </td></tr>\n",
       "\t<tr><th scope=row>2919</th><td>Laos        </td><td>1992        </td><td>4.379759    </td><td>7.142780e-04</td><td>16.52255    </td><td>3.083717    </td><td>6.248648    </td></tr>\n",
       "\t<tr><th scope=row>2920</th><td>Laos        </td><td>1993        </td><td>4.447373    </td><td>1.688755e-03</td><td>16.69786    </td><td>3.155820    </td><td>6.168858    </td></tr>\n",
       "\t<tr><th scope=row>2921</th><td>Laos        </td><td>1994        </td><td>4.519130    </td><td>3.282556e-03</td><td>16.85618    </td><td>3.229338    </td><td>6.066945    </td></tr>\n",
       "</tbody>\n",
       "</table>\n"
      ],
      "text/latex": [
       "\\begin{tabular}{r|lllllll}\n",
       "  & ï..country & year & Cancers.... & HIV.AIDS.... & Cardiovascular.diseases.... & Diabetes.... & Tuberculosis....\\\\\n",
       "\\hline\n",
       "\t2917 & Laos         & 1990         & 4.227791     & 9.367250e-06 & 16.02770     & 2.924664     & 6.291989    \\\\\n",
       "\t2918 & Laos         & 1991         & 4.307539     & 1.798300e-04 & 16.30478     & 3.006187     & 6.294940    \\\\\n",
       "\t2919 & Laos         & 1992         & 4.379759     & 7.142780e-04 & 16.52255     & 3.083717     & 6.248648    \\\\\n",
       "\t2920 & Laos         & 1993         & 4.447373     & 1.688755e-03 & 16.69786     & 3.155820     & 6.168858    \\\\\n",
       "\t2921 & Laos         & 1994         & 4.519130     & 3.282556e-03 & 16.85618     & 3.229338     & 6.066945    \\\\\n",
       "\\end{tabular}\n"
      ],
      "text/markdown": [
       "\n",
       "| <!--/--> | ï..country | year | Cancers.... | HIV.AIDS.... | Cardiovascular.diseases.... | Diabetes.... | Tuberculosis.... |\n",
       "|---|---|---|---|---|---|---|---|\n",
       "| 2917 | Laos         | 1990         | 4.227791     | 9.367250e-06 | 16.02770     | 2.924664     | 6.291989     |\n",
       "| 2918 | Laos         | 1991         | 4.307539     | 1.798300e-04 | 16.30478     | 3.006187     | 6.294940     |\n",
       "| 2919 | Laos         | 1992         | 4.379759     | 7.142780e-04 | 16.52255     | 3.083717     | 6.248648     |\n",
       "| 2920 | Laos         | 1993         | 4.447373     | 1.688755e-03 | 16.69786     | 3.155820     | 6.168858     |\n",
       "| 2921 | Laos         | 1994         | 4.519130     | 3.282556e-03 | 16.85618     | 3.229338     | 6.066945     |\n",
       "\n"
      ],
      "text/plain": [
       "     ï..country year Cancers.... HIV.AIDS.... Cardiovascular.diseases....\n",
       "2917 Laos       1990 4.227791    9.367250e-06 16.02770                   \n",
       "2918 Laos       1991 4.307539    1.798300e-04 16.30478                   \n",
       "2919 Laos       1992 4.379759    7.142780e-04 16.52255                   \n",
       "2920 Laos       1993 4.447373    1.688755e-03 16.69786                   \n",
       "2921 Laos       1994 4.519130    3.282556e-03 16.85618                   \n",
       "     Diabetes.... Tuberculosis....\n",
       "2917 2.924664     6.291989        \n",
       "2918 3.006187     6.294940        \n",
       "2919 3.083717     6.248648        \n",
       "2920 3.155820     6.168858        \n",
       "2921 3.229338     6.066945        "
      ]
     },
     "metadata": {},
     "output_type": "display_data"
    },
    {
     "data": {
      "image/png": "[encoded data removed]",
      "text/plain": [
       "plot without title"
      ]
     },
     "metadata": {},
     "output_type": "display_data"
    }
   ],
   "source": [
    "Laos<-death[2917:2943,c(\"ï..country\",\"year\",\"Cancers....\",\"HIV.AIDS....\",\"Cardiovascular.diseases....\", \"Diabetes....\", \"Tuberculosis....\")]\n",
    "Laos[1:5,]\n",
    "\n",
    "library(ggplot2)\n",
    "\n",
    "theme_set(theme_bw()) \n",
    "g <- ggplot(Laos, aes(year, Cancers....))\n",
    "g + geom_count(col=\"tomato3\", show.legend=F) +\n",
    "  labs(subtitle=\"cancer\", \n",
    "       y=\"per cent\", \n",
    "       x=\"year\", \n",
    "       title=\"Counts Plot\")\n"
   ]
  },
  {
   "cell_type": "markdown",
   "metadata": {},
   "source": [
    "From the table above shows us about the percentage of the death population in Laos(1990-2016), which was caused by cancers. We found that there was a steady increase in the percentage of the death population, which was from cancers from 1990 to 2016 about 5%( from 4% to 9%)."
   ]
  },
  {
   "cell_type": "markdown",
   "metadata": {},
   "source": [
    "## The death rate from cancers in France  in 1990 - 2016"
   ]
  },
  {
   "cell_type": "code",
   "execution_count": 536,
   "metadata": {
    "scrolled": false
   },
   "outputs": [
    {
     "data": {
      "text/html": [
       "<table>\n",
       "<thead><tr><th></th><th scope=col>ï..country</th><th scope=col>year</th><th scope=col>Cancers....</th><th scope=col>HIV.AIDS....</th><th scope=col>Cardiovascular.diseases....</th><th scope=col>Diabetes....</th><th scope=col>Tuberculosis....</th></tr></thead>\n",
       "<tbody>\n",
       "\t<tr><th scope=row>1945</th><td>France   </td><td>1990     </td><td>27.10975 </td><td>0.5493273</td><td>34.07554 </td><td>3.926773 </td><td>0.4522436</td></tr>\n",
       "\t<tr><th scope=row>1946</th><td>France   </td><td>1991     </td><td>27.37465 </td><td>0.7175285</td><td>33.64440 </td><td>3.904138 </td><td>0.4460537</td></tr>\n",
       "\t<tr><th scope=row>1947</th><td>France   </td><td>1992     </td><td>27.64643 </td><td>0.8330889</td><td>33.25775 </td><td>3.890925 </td><td>0.4437982</td></tr>\n",
       "\t<tr><th scope=row>1948</th><td>France   </td><td>1993     </td><td>27.77573 </td><td>0.9073490</td><td>33.02930 </td><td>3.927483 </td><td>0.4466862</td></tr>\n",
       "\t<tr><th scope=row>1949</th><td>France   </td><td>1994     </td><td>27.88690 </td><td>0.9769002</td><td>32.79334 </td><td>3.967141 </td><td>0.4469960</td></tr>\n",
       "\t<tr><th scope=row>1950</th><td>France   </td><td>1995     </td><td>27.90773 </td><td>0.9180038</td><td>32.80125 </td><td>4.033376 </td><td>0.4430137</td></tr>\n",
       "</tbody>\n",
       "</table>\n"
      ],
      "text/latex": [
       "\\begin{tabular}{r|lllllll}\n",
       "  & ï..country & year & Cancers.... & HIV.AIDS.... & Cardiovascular.diseases.... & Diabetes.... & Tuberculosis....\\\\\n",
       "\\hline\n",
       "\t1945 & France    & 1990      & 27.10975  & 0.5493273 & 34.07554  & 3.926773  & 0.4522436\\\\\n",
       "\t1946 & France    & 1991      & 27.37465  & 0.7175285 & 33.64440  & 3.904138  & 0.4460537\\\\\n",
       "\t1947 & France    & 1992      & 27.64643  & 0.8330889 & 33.25775  & 3.890925  & 0.4437982\\\\\n",
       "\t1948 & France    & 1993      & 27.77573  & 0.9073490 & 33.02930  & 3.927483  & 0.4466862\\\\\n",
       "\t1949 & France    & 1994      & 27.88690  & 0.9769002 & 32.79334  & 3.967141  & 0.4469960\\\\\n",
       "\t1950 & France    & 1995      & 27.90773  & 0.9180038 & 32.80125  & 4.033376  & 0.4430137\\\\\n",
       "\\end{tabular}\n"
      ],
      "text/markdown": [
       "\n",
       "| <!--/--> | ï..country | year | Cancers.... | HIV.AIDS.... | Cardiovascular.diseases.... | Diabetes.... | Tuberculosis.... |\n",
       "|---|---|---|---|---|---|---|---|\n",
       "| 1945 | France    | 1990      | 27.10975  | 0.5493273 | 34.07554  | 3.926773  | 0.4522436 |\n",
       "| 1946 | France    | 1991      | 27.37465  | 0.7175285 | 33.64440  | 3.904138  | 0.4460537 |\n",
       "| 1947 | France    | 1992      | 27.64643  | 0.8330889 | 33.25775  | 3.890925  | 0.4437982 |\n",
       "| 1948 | France    | 1993      | 27.77573  | 0.9073490 | 33.02930  | 3.927483  | 0.4466862 |\n",
       "| 1949 | France    | 1994      | 27.88690  | 0.9769002 | 32.79334  | 3.967141  | 0.4469960 |\n",
       "| 1950 | France    | 1995      | 27.90773  | 0.9180038 | 32.80125  | 4.033376  | 0.4430137 |\n",
       "\n"
      ],
      "text/plain": [
       "     ï..country year Cancers.... HIV.AIDS.... Cardiovascular.diseases....\n",
       "1945 France     1990 27.10975    0.5493273    34.07554                   \n",
       "1946 France     1991 27.37465    0.7175285    33.64440                   \n",
       "1947 France     1992 27.64643    0.8330889    33.25775                   \n",
       "1948 France     1993 27.77573    0.9073490    33.02930                   \n",
       "1949 France     1994 27.88690    0.9769002    32.79334                   \n",
       "1950 France     1995 27.90773    0.9180038    32.80125                   \n",
       "     Diabetes.... Tuberculosis....\n",
       "1945 3.926773     0.4522436       \n",
       "1946 3.904138     0.4460537       \n",
       "1947 3.890925     0.4437982       \n",
       "1948 3.927483     0.4466862       \n",
       "1949 3.967141     0.4469960       \n",
       "1950 4.033376     0.4430137       "
      ]
     },
     "metadata": {},
     "output_type": "display_data"
    },
    {
     "data": {
      "image/png": "[encoded data removed]",
      "text/plain": [
       "Plot with title \"The cause of the death from Cancers.... (1990-2016)  \""
      ]
     },
     "metadata": {},
     "output_type": "display_data"
    }
   ],
   "source": [
    "France <- unique(death[1945:1971,c(\"ï..country\",\"year\",\"Cancers....\",\"HIV.AIDS....\",\"Cardiovascular.diseases....\", \"Diabetes....\", \"Tuberculosis....\")])\n",
    "head(France)\n",
    "\n",
    "hist(France$Cancers...., freq=FALSE, col=\"pink\", \n",
    "     xlab=\"% Cancers\", main=\"The cause of the death from Cancers.... (1990-2016)  \")\n",
    "curve(dnorm(x, mean=mean(France$Cardiovascular.diseases), \n",
    "     sd=sd(France$Cardiovascular.diseases)), add=TRUE, col=\"black\") #line"
   ]
  },
  {
   "cell_type": "markdown",
   "metadata": {},
   "source": [
    "From the table above shows us about the percentage of the death population in France, which was caused by cancers increaded gradually over decades."
   ]
  },
  {
   "cell_type": "markdown",
   "metadata": {},
   "source": [
    "# _Linear Regression_"
   ]
  },
  {
   "cell_type": "markdown",
   "metadata": {},
   "source": [
    "## <span style=color:blue>Response Variable"
   ]
  },
  {
   "cell_type": "markdown",
   "metadata": {},
   "source": [
    "The responses that are the percentage of the death population, which was caused by cancers, diabetes, and Parkinson to see if any factor such as Alcohol disorder can affect these diseases.\n"
   ]
  },
  {
   "cell_type": "markdown",
   "metadata": {},
   "source": [
    "## <span style=color:blue> Explore Correlations"
   ]
  },
  {
   "cell_type": "markdown",
   "metadata": {},
   "source": [
    "## The correlation between cancers and alcohol disorder"
   ]
  },
  {
   "cell_type": "code",
   "execution_count": 258,
   "metadata": {},
   "outputs": [
    {
     "data": {
      "image/png": "[encoded data removed]",
      "text/plain": [
       "Plot with title \"Cancers vs. Alcohol disorder\""
      ]
     },
     "metadata": {},
     "output_type": "display_data"
    }
   ],
   "source": [
    "USA<-unique(death[5779:5805,c(\"ï..country\",\"year\",\"Cancers....\",\"Alcohol.disorders....\")])\n",
    "plot(USA$Alcohol.disorders, USA$Cancers,\n",
    "     main = \"Cancers vs. Alcohol disorder\",\n",
    "     sub = \"the death\",\n",
    "     xlab = \"Alcohol disorder(%)\",\n",
    "     ylab = \"Cancer(%)\")"
   ]
  },
  {
   "cell_type": "markdown",
   "metadata": {},
   "source": [
    "From this graph above, we found that there was a small increase in the percentage of the death population from cancers from about 24% to 24.6% in 2016 with increasing of the percentage of the death population from alcohol disorders."
   ]
  },
  {
   "cell_type": "markdown",
   "metadata": {},
   "source": [
    "## The correlation between  alcohol disorders and Parkinson"
   ]
  },
  {
   "cell_type": "code",
   "execution_count": 271,
   "metadata": {},
   "outputs": [
    {
     "data": {
      "image/png": "[encoded data removed]",
      "text/plain": [
       "Plot with title \"Alcohol.disorders VS Parkinson.disease\""
      ]
     },
     "metadata": {},
     "output_type": "display_data"
    }
   ],
   "source": [
    "USA<-unique(death[5779:5805,c(\"ï..country\",\"year\",\"Parkinson.disease....\",\"Alcohol.disorders....\")])\n",
    "plot(USA$Alcohol.disorders, USA$Parkinson.disease,\n",
    "     main = \"Alcohol.disorders VS Parkinson.disease\",\n",
    "     sub = \"the death rate\",\n",
    "     xlab = \"Alcohol.disorders(%)\",\n",
    "     ylab = \"Parkinson.disease(%)\")"
   ]
  },
  {
   "cell_type": "markdown",
   "metadata": {},
   "source": [
    "From this graph above, we found that the percentage of the death population from Parkinson increased from 0.30% to 0.95% in 2016 with increasing of the percentage of the death population from alcohol disorders."
   ]
  },
  {
   "cell_type": "markdown",
   "metadata": {},
   "source": [
    "## The correlation between Diabete and Kidney disease"
   ]
  },
  {
   "cell_type": "code",
   "execution_count": 281,
   "metadata": {},
   "outputs": [
    {
     "data": {
      "image/png": "[encoded data removed]",
      "text/plain": [
       "Plot with title \"Diabete VS Kidney.disease\""
      ]
     },
     "metadata": {},
     "output_type": "display_data"
    }
   ],
   "source": [
    "USA<-(death[5779:5805,c(\"ï..country\",\"year\",\"Kidney.disease....\",\"Diabetes....\")])\n",
    "plot(USA$Diabetes, USA$Kidney.disease,\n",
    "     main = \"Diabete VS Kidney.disease\",\n",
    "     sub = \"the death rate\",\n",
    "     xlab = \"Diabete(%)\",\n",
    "     ylab = \"Kidney.disease(%)\")"
   ]
  },
  {
   "cell_type": "markdown",
   "metadata": {},
   "source": [
    "From this graph above, we found that the percentage of the death population from Kidney disease steadily increased from 1.5 to 3.0% in 2016 with increasing of the percentage of the death population from Diabetes."
   ]
  },
  {
   "cell_type": "markdown",
   "metadata": {},
   "source": [
    "## <span style=color:blue> Simple Linear Regression"
   ]
  },
  {
   "cell_type": "markdown",
   "metadata": {},
   "source": [
    "### The relationship of the death from cancers and nutritional deficiencies"
   ]
  },
  {
   "cell_type": "code",
   "execution_count": 446,
   "metadata": {},
   "outputs": [
    {
     "data": {
      "text/plain": [
       "\n",
       "Call:\n",
       "lm(formula = Cancers.... ~ Nutritional.deficiencies...., data = death)\n",
       "\n",
       "Residuals:\n",
       "    Min      1Q  Median      3Q     Max \n",
       "-14.191  -5.831  -1.202   5.312  68.978 \n",
       "\n",
       "Coefficients:\n",
       "                             Estimate Std. Error t value Pr(>|t|)    \n",
       "(Intercept)                  16.59879    0.10672  155.53   <2e-16 ***\n",
       "Nutritional.deficiencies.... -2.02001    0.04923  -41.03   <2e-16 ***\n",
       "---\n",
       "Signif. codes:  0 '***' 0.001 '**' 0.01 '*' 0.05 '.' 0.1 ' ' 1\n",
       "\n",
       "Residual standard error: 7.226 on 6154 degrees of freedom\n",
       "Multiple R-squared:  0.2148,\tAdjusted R-squared:  0.2147 \n",
       "F-statistic:  1684 on 1 and 6154 DF,  p-value: < 2.2e-16\n"
      ]
     },
     "metadata": {},
     "output_type": "display_data"
    }
   ],
   "source": [
    "slr1 <- lm(Cancers.... ~  Nutritional.deficiencies...., data=death)\n",
    "summary(slr1)"
   ]
  },
  {
   "cell_type": "markdown",
   "metadata": {},
   "source": [
    "From this infomation above, we found that there is a correlation between the cancers and nutritional.deficiencies. Therefore, p-Value = 2e-16  (<0.05), which is significant. Furthermore, R- squared is about 0.2148 , which means this model can explain the data around 21.48%. Overall, nutritional deficiencies affect on cancers."
   ]
  },
  {
   "cell_type": "markdown",
   "metadata": {},
   "source": [
    "### The relationship of the death from digestive.diseases and cancers "
   ]
  },
  {
   "cell_type": "code",
   "execution_count": 460,
   "metadata": {},
   "outputs": [
    {
     "data": {
      "text/plain": [
       "\n",
       "Call:\n",
       "lm(formula = Digestive.diseases.... ~ Cancers...., data = death)\n",
       "\n",
       "Residuals:\n",
       "    Min      1Q  Median      3Q     Max \n",
       "-1.3684 -0.4339 -0.0424  0.3172  3.2386 \n",
       "\n",
       "Coefficients:\n",
       "            Estimate Std. Error t value Pr(>|t|)    \n",
       "(Intercept) 1.669938   0.017091   97.71   <2e-16 ***\n",
       "Cancers.... 0.020838   0.001034   20.16   <2e-16 ***\n",
       "---\n",
       "Signif. codes:  0 '***' 0.001 '**' 0.01 '*' 0.05 '.' 0.1 ' ' 1\n",
       "\n",
       "Residual standard error: 0.6612 on 6154 degrees of freedom\n",
       "Multiple R-squared:  0.06196,\tAdjusted R-squared:  0.06181 \n",
       "F-statistic: 406.5 on 1 and 6154 DF,  p-value: < 2.2e-16\n"
      ]
     },
     "metadata": {},
     "output_type": "display_data"
    }
   ],
   "source": [
    "slr2 <- lm( Digestive.diseases....~ Cancers....  , data = death)\n",
    "summary(slr2)"
   ]
  },
  {
   "cell_type": "markdown",
   "metadata": {},
   "source": [
    "From this infomation above, we found that there is a correlation between digestive diseases and cancers. Therefore, p-Value = 2e-16  (<0.05), which is significant. Furthermore, R- squared is about 0.06196 , which means this model can explain the data around 6.196%. Overall, digestive diseases affect on cancers."
   ]
  },
  {
   "cell_type": "markdown",
   "metadata": {},
   "source": [
    "### The relationship of the death from conflicts and the terrorism"
   ]
  },
  {
   "cell_type": "code",
   "execution_count": 459,
   "metadata": {},
   "outputs": [
    {
     "data": {
      "text/plain": [
       "\n",
       "Call:\n",
       "lm(formula = Conflict.... ~ Terrorism...., data = death)\n",
       "\n",
       "Residuals:\n",
       "    Min      1Q  Median      3Q     Max \n",
       "-14.951  -0.159  -0.159  -0.159  81.248 \n",
       "\n",
       "Coefficients:\n",
       "              Estimate Std. Error t value Pr(>|t|)    \n",
       "(Intercept)    0.15863    0.03316   4.784 1.77e-06 ***\n",
       "Terrorism....  3.54200    0.14272  24.818  < 2e-16 ***\n",
       "---\n",
       "Signif. codes:  0 '***' 0.001 '**' 0.01 '*' 0.05 '.' 0.1 ' ' 1\n",
       "\n",
       "Residual standard error: 2.257 on 4756 degrees of freedom\n",
       "  (1398 observations deleted due to missingness)\n",
       "Multiple R-squared:  0.1147,\tAdjusted R-squared:  0.1145 \n",
       "F-statistic: 615.9 on 1 and 4756 DF,  p-value: < 2.2e-16\n"
      ]
     },
     "metadata": {},
     "output_type": "display_data"
    }
   ],
   "source": [
    "slr3 <- lm(Conflict.... ~ Terrorism.... ,data= death)\n",
    "summary(slr3)"
   ]
  },
  {
   "cell_type": "markdown",
   "metadata": {},
   "source": [
    "From this infomation above, we found that there is a correlation between conflicts and the terrorism. Therefore, p-Value = 2e-16  (<0.05), which is significant. Furthermore, R- squared is about 0.1147 , which means this model can explain the data around 11.47%. Overall, conflicts are related to the terrorism."
   ]
  },
  {
   "cell_type": "markdown",
   "metadata": {},
   "source": [
    "### The relationship of the death from Fire and Heat related hot and cold exposure"
   ]
  },
  {
   "cell_type": "code",
   "execution_count": 206,
   "metadata": {},
   "outputs": [
    {
     "data": {
      "text/plain": [
       "\n",
       "Call:\n",
       "lm(formula = Fire.... ~ Heat.related..hot.and.cold.exposure....., \n",
       "    data = death)\n",
       "\n",
       "Residuals:\n",
       "     Min       1Q   Median       3Q      Max \n",
       "-0.29686 -0.14004 -0.02207  0.09932  1.03051 \n",
       "\n",
       "Coefficients:\n",
       "                                         Estimate Std. Error t value Pr(>|t|)\n",
       "(Intercept)                              0.297292   0.002799  106.23   <2e-16\n",
       "Heat.related..hot.and.cold.exposure..... 0.359051   0.016518   21.74   <2e-16\n",
       "                                            \n",
       "(Intercept)                              ***\n",
       "Heat.related..hot.and.cold.exposure..... ***\n",
       "---\n",
       "Signif. codes:  0 '***' 0.001 '**' 0.01 '*' 0.05 '.' 0.1 ' ' 1\n",
       "\n",
       "Residual standard error: 0.1745 on 6154 degrees of freedom\n",
       "Multiple R-squared:  0.0713,\tAdjusted R-squared:  0.07115 \n",
       "F-statistic: 472.5 on 1 and 6154 DF,  p-value: < 2.2e-16\n"
      ]
     },
     "metadata": {},
     "output_type": "display_data"
    }
   ],
   "source": [
    "slr4 <- lm(Fire.... ~ Heat.related..hot.and.cold.exposure..... ,data=death)\n",
    "summary(slr4)"
   ]
  },
  {
   "cell_type": "markdown",
   "metadata": {},
   "source": [
    "From this infomation above, we found that there is a correlation between Fire  and the Heat related hot and cold exposure. Therefore, p-Value = 2e-16  (<0.05), which is significant. Furthermore, R- squared is about 0.0713 , which means this model can explain the data around 7.13%. Overall, Fire  and the Heat related hot and cold exposure are related."
   ]
  },
  {
   "cell_type": "markdown",
   "metadata": {},
   "source": [
    "##  <span style=color:blue> Multiple Linear Regression"
   ]
  },
  {
   "cell_type": "markdown",
   "metadata": {},
   "source": [
    "### The relationship of the death from cancers with 4 different factors, which are  alcohol disorders, nutritional.deficiencies, and digestive diseases"
   ]
  },
  {
   "cell_type": "code",
   "execution_count": 461,
   "metadata": {},
   "outputs": [
    {
     "data": {
      "text/plain": [
       "\n",
       "Call:\n",
       "lm(formula = Cancers.... ~ Alcohol.disorders.... + Nutritional.deficiencies.... + \n",
       "    Digestive.diseases...., data = death)\n",
       "\n",
       "Residuals:\n",
       "    Min      1Q  Median      3Q     Max \n",
       "-18.678  -5.029  -1.594   5.116  69.966 \n",
       "\n",
       "Coefficients:\n",
       "                             Estimate Std. Error t value Pr(>|t|)    \n",
       "(Intercept)                   9.93258    0.27028   36.75   <2e-16 ***\n",
       "Alcohol.disorders....         3.12419    0.21812   14.32   <2e-16 ***\n",
       "Nutritional.deficiencies.... -1.93810    0.04698  -41.25   <2e-16 ***\n",
       "Digestive.diseases....        2.83670    0.12860   22.06   <2e-16 ***\n",
       "---\n",
       "Signif. codes:  0 '***' 0.001 '**' 0.01 '*' 0.05 '.' 0.1 ' ' 1\n",
       "\n",
       "Residual standard error: 6.79 on 6152 degrees of freedom\n",
       "Multiple R-squared:  0.3069,\tAdjusted R-squared:  0.3066 \n",
       "F-statistic: 908.2 on 3 and 6152 DF,  p-value: < 2.2e-16\n"
      ]
     },
     "metadata": {},
     "output_type": "display_data"
    }
   ],
   "source": [
    "mlr1 <- lm(Cancers.... ~ Alcohol.disorders.... +  Nutritional.deficiencies.... +Digestive.diseases....\n",
    ", data = death)\n",
    "summary(mlr1)"
   ]
  },
  {
   "cell_type": "markdown",
   "metadata": {},
   "source": [
    "This data above shows the best correlation is the relationship between causes of the death of cancers, Alcohol disorders, Nutritional deficiencies, and Digestive diseases, which directly affect on the death from cancers at all p-Value = 2e-16 (<0.05). This data shows R-squared at 0.3069; in other words, it can explain this data 30.69%. Overall, Alcohol disorders, Nutritional deficiencies, and Digestive diseases can predict the death from cancers."
   ]
  },
  {
   "cell_type": "markdown",
   "metadata": {},
   "source": [
    "# _Findings_"
   ]
  },
  {
   "cell_type": "markdown",
   "metadata": {},
   "source": [
    "## <span style=color:blue>Project Report"
   ]
  },
  {
   "cell_type": "markdown",
   "metadata": {},
   "source": [
    "From the Morality data of the world population( 1990 - 2016) give us visualization to explore the actual causes, which lead people to the death for decades. The interesting causes of the death of people consist of internal causes and external causes. Internal causes that are Cancers, Tuberculosis, HIV.AIDs, Diabetes,and Cardiovascular diseases. On the other hand, external effects are Fire, Heat related hot and cold exposure, Natural disasters, Conflict,and Terrorism. \n",
    "\n",
    "There are 3 purposes for doing this project. firstly, we would like to demonstrate the changing of the death rate in the united state of America(USA), Brazil, and Laos from 1990 to 2016, reposted in 4 different factors of the death, which are Cancer, HIV.AID, Cardiovascular disease, and Natural disaster. As a result,in the united state of America(USA) is well-known as a developed country. It can be clearly seen that the most of US. people died from Cancers, which were about 24% per year. Meanwhile, the percentage of the death people, which were caused by HIV.AID, Cardiovascular disease steadily decreased over 27 years. However, the percentage of the death population from Natural disasters remained unchanged from 1990 to 2016. \n",
    "\n",
    "Meanawhile, in Brazil, a developing country, it can be cleary seen that the population of the death caused by cancers increased gradually through 2016 from under 12% to over 17%. Furthermore, the population of the death from HIV/AIDS reached the highest point at 2% before increasing gradually to 1.2% in 2016. Meanwhile, the population of the death from Cardiovascular diseases gradually increased and reached the highest point at over 30% before reaching the lowest point under 28% in 2016. Finally, the percentage of the death population from Natural disasters remained unchanged over 27 years as USA.\n",
    "\n",
    "Finally, in Laos, an undeveloped country, demonstrats that the percentage of the death population from cancers,HIV/AID, Cardiovascular shared the same trend, which increased gradually until 2016(about from 5% to 9%, o to 0.8%, and 16 to 26%, respectively). Meanwhile, the percentage of the death population from Natural disasters remained unchanged over 27 years. "
   ]
  },
  {
   "cell_type": "markdown",
   "metadata": {},
   "source": [
    "##  <span style=color:red>  Causes of the death in USA, Brazil, and Laos in past 27 years (1990-2016)"
   ]
  },
  {
   "cell_type": "code",
   "execution_count": 533,
   "metadata": {},
   "outputs": [
    {
     "data": {
      "image/png": "[encoded data removed]",
      "text/plain": [
       "Plot with title \"The death rate of USA natural disasters in 1990-2015\""
      ]
     },
     "metadata": {},
     "output_type": "display_data"
    },
    {
     "data": {
      "image/png": "[encoded data removed]",
      "text/plain": [
       "Plot with title \"The death rate of Brazil natural disasters in 1990-2015\""
      ]
     },
     "metadata": {},
     "output_type": "display_data"
    },
    {
     "data": {
      "image/png": "[encoded data removed]",
      "text/plain": [
       "Plot with title \"The death rate of Laos natural disasters in 1990-2015\""
      ]
     },
     "metadata": {},
     "output_type": "display_data"
    }
   ],
   "source": [
    "par(mfrow= c(2,2))\n",
    "plot(USA$year, USA$Cancers, main = \"The death rate of USA Cancer in 1990-2015\" )\n",
    "plot(USA$year, USA$HIV.AIDS, main = \"The death rate of USA HIV/AIDS in 1990-2015\")\n",
    "plot(USA$year, USA$Cardiovascular.diseases, main = \"The death rate of USA Cardiovascular in 1990-2015\")\n",
    "plot(USA$year, USA$Natural.disasters, main = \"The death rate of USA natural disasters in 1990-2015\")\n",
    "\n",
    "par(mfrow= c(2,2))\n",
    "plot(BZ$year, BZ$Cancers, main = \"The death rate of Brazil Cancer in 1990-2015\" )\n",
    "plot(BZ$year, BZ$HIV.AIDS, main = \"The death rate of Brazil HIV/AIDS in 1990-2015\")\n",
    "plot(BZ$year, BZ$Cardiovascular.diseases, main = \"The death rate of Brazil Cardiovascular in 1990-2015\")\n",
    "plot(BZ$year, BZ$Natural.disasters, main = \"The death rate of Brazil natural disasters in 1990-2015\")\n",
    "\n",
    "par(mfrow= c(2,2))\n",
    "plot(LAOS$year, LAOS$Cancers, main = \"The death rate of Laos Cancer in 1990-2015\" )\n",
    "plot(LAOS$year, LAOS$HIV.AIDS, main = \"The death rate of Laos HIV/AIDS in 1990-2015\")\n",
    "plot(LAOS$year, LAOS$Cardiovascular.diseases, main = \"The death rate of Laos Cardiovascular in 1990-2015\")\n",
    "plot(LAOS$year, LAOS$Natural.disasters, main = \"The death rate of Laos natural disasters in 1990-2015\")"
   ]
  },
  {
   "cell_type": "markdown",
   "metadata": {},
   "source": [
    "Overall, from table above, we can conclude that between 1990-2016 in the US. most of people died because of having cancers, while causes of the death, which were caused by HIV.AID, Cardiovascular diseas decreased significantly. Furthermore, in the Brazil, we found that most of Brazilian population died because of Cardiovascular diseases, which was over 28% from 1990 t0 2019. Furthermore, the trend of the death population from cancers rose up dramatically over 27 years. Meanwhile, the percentage of the death population from HIV/AIDS decreased gradually. Finally in Laos, unbelievably,  the percentage of the death populatio form Cancers, HIV/AIDs and Cardiovascular incearsed continously. However, these three countries shared the same trend about the cause of the death from Natural disaster, which remained unchanged over decades."
   ]
  },
  {
   "cell_type": "markdown",
   "metadata": {},
   "source": [
    "## <span style=color:red> The death rate in Switzerland with 5 severe diseases in 2016"
   ]
  },
  {
   "cell_type": "code",
   "execution_count": 534,
   "metadata": {},
   "outputs": [
    {
     "data": {
      "text/html": [
       "<table>\n",
       "<thead><tr><th></th><th scope=col>year</th><th scope=col>Cancers....</th><th scope=col>HIV.AIDS....</th><th scope=col>Cardiovascular.diseases....</th><th scope=col>Diabetes....</th><th scope=col>Tuberculosis....</th></tr></thead>\n",
       "<tbody>\n",
       "\t<tr><th scope=row>5319</th><td>2016      </td><td>26.35945  </td><td>0.06084086</td><td>34.42206  </td><td>5.270243  </td><td>0.05672101</td></tr>\n",
       "</tbody>\n",
       "</table>\n"
      ],
      "text/latex": [
       "\\begin{tabular}{r|llllll}\n",
       "  & year & Cancers.... & HIV.AIDS.... & Cardiovascular.diseases.... & Diabetes.... & Tuberculosis....\\\\\n",
       "\\hline\n",
       "\t5319 & 2016       & 26.35945   & 0.06084086 & 34.42206   & 5.270243   & 0.05672101\\\\\n",
       "\\end{tabular}\n"
      ],
      "text/markdown": [
       "\n",
       "| <!--/--> | year | Cancers.... | HIV.AIDS.... | Cardiovascular.diseases.... | Diabetes.... | Tuberculosis.... |\n",
       "|---|---|---|---|---|---|---|\n",
       "| 5319 | 2016       | 26.35945   | 0.06084086 | 34.42206   | 5.270243   | 0.05672101 |\n",
       "\n"
      ],
      "text/plain": [
       "     year Cancers.... HIV.AIDS.... Cardiovascular.diseases.... Diabetes....\n",
       "5319 2016 26.35945    0.06084086   34.42206                    5.270243    \n",
       "     Tuberculosis....\n",
       "5319 0.05672101      "
      ]
     },
     "metadata": {},
     "output_type": "display_data"
    },
    {
     "data": {
      "image/png": "[encoded data removed]",
      "text/plain": [
       "Plot with title \"The percentage of the death in Switzerland from 5  diseases in 2016\""
      ]
     },
     "metadata": {},
     "output_type": "display_data"
    }
   ],
   "source": [
    "library(ggplot2)\n",
    "SW<-Switz[which(Switz$year == \"2016\"),names(Switz) %in% c(\"year\",\"Cancers....\",\"HIV.AIDS....\",\"Cardiovascular.diseases....\", \"Diabetes....\", \"Tuberculosis....\")]\n",
    "SW\n",
    "data = c(26.35945, 0.06084086,34.42206, 5.270243, 0.05672101)\n",
    "pct = (data/sum(data))*100\n",
    "pct = round(pct,2)\n",
    "labels = c(\"Cancers....\",\"HIV.AIDS....\",\"Cardiovascular.diseases....\", \"Diabetes....\", \"Tuberculosis....\")\n",
    "labels = paste(labels,pct, \"%\")\n",
    "\n",
    "col = c(\"purple\", \"violetred1\", \"pink\",\"green\", \"cyan\")\n",
    "pie(pct,col = col, radius = 1, init.angle = 90, clockwise = TRUE, \n",
    "\n",
    "    labels =labels, main = \"The percentage of the death in Switzerland from 5  diseases in 2016\")"
   ]
  },
  {
   "cell_type": "markdown",
   "metadata": {},
   "source": [
    "Secondly, as we have known that Switzerland are one of the best healthcare country. Consequently, we are going to see the percentage of the Switzerland death population in 5 dangerous diseaese, which are Cancers, HIV.AIDS,\n",
    "Cardiovascular.diseases, Diabetes, and Tuberculosis in recent year (2016). As a result, We found that the percentage of the death population having cardiovascular diseases was the highest, which was about 52% in the total percentage of 5 dangerous in this country. Following by cancers, and Diabetes were reported over 40%,7.96%(respectively). Meanwhile, there were a few of the percentage of HIV/AIDS and Tuberculosis. \n",
    "\n",
    "Thirdly, we are going to see the percentage of the death population in Laos(1990-2016), which was caused by cancers. We found that there was a steady increase in the percentage of the death population, which was from cancers from 1990 to 2016 about 5%( from 4% to 9%). \n",
    "\n",
    "Fourly,we would like to find the correlation between diseases and factors to see if is there a relationship between the death of having cancers and having alcohol disorder, if having alcohol disorder is related to having Parkinson, and Finally, if having diabetes affects on the function of kidney. As a result, we found that there was a small increase in the percentage of the death population from cancers from about 24% to 24.6% in 2016 with increasing of the percentage of the death population from alcohol disorders.Furthermore, the percentage of the death population from Parkinson increased from 0.30% to 0.95% in 2016 with increasing of the percentage of the death population from alcohol disorders.\n",
    "Finally, we found that the percentage of the death population from Kidney disease steadily increased from 1.5 to 3.0% in 2016 with increasing of the percentage of the death population from Diabetes. \n",
    "\n",
    "Fifly, from the linear regression, we found that there is the correlation between the cancers and nutritional deficiencies, also the correlation between cancers and digestive diseases. Furthermore, we found the orrelation between conflicts and the terrorism, and the correlation between Fire  and the Heat related hot and cold exposure. Therefore,the p-Value is lower than 0.05, which is significant. \n",
    "\n",
    "Finally, from the multiple linear regression, this data above shows the best correlation is the relationship between causes of the death of cancers, Alcohol disorders, Nutritional deficiencies, and Digestive diseases, which directly affect on the death from cancers at all p-Value is lower than 0.05. This data shows R-squared at 0.3069; in other words, it can explain this data 30.69%. Overall, Alcohol disorders, Nutritional deficiencies, and Digestive diseases can predict the death from cancers.\n",
    "\n",
    "To sum up, these results will be beneficial for the gorvenment section in the world to be aware of causes of the morality in to develope Health care section in each country in order to manage the number of nurses, physicians or specialists to handle with the number of patients when we assume that the rate of the death of population are relative to the number of patients. Furthermore, the heath care section can provide knowlegde for people in each country to take care thier health to avoid illness and other factors of the death."
   ]
  },
  {
   "cell_type": "markdown",
   "metadata": {},
   "source": [
    "## stakeholders \n",
    ": world health services, the government of each country, or the public health section\n",
    "\n",
    "## Recommendations \n",
    ": We found that in developed countries such as the united state, most of people died from cancers. Furthermore, we found that having cancers are ralated to consuming foods, and diseases from the digestive system. Consequenty, the public health section should create a campaign for people to eat properly. Meanwhile, in developing countries such as Brazil, we found that most of people died from Cardiovascular diseases. Therefore, the public health section should prepare specialists to handle with the number of patients to decrease the death rate. However, Laos, an undevelop country, still has many problem about heath care because the rate of the death from HIV/AIDS, Cardiovascular diseases, and Cancers increased  significantly. That means the gorvenment should take care of the heath care section particulary and should support researchers to develop how to treat and protect people from diseases better.\n"
   ]
  }
 ],
 "metadata": {
  "kernelspec": {
   "display_name": "R",
   "language": "R",
   "name": "ir"
  },
  "language_info": {
   "codemirror_mode": "r",
   "file_extension": ".r",
   "mimetype": "text/x-r-source",
   "name": "R",
   "pygments_lexer": "r",
   "version": "3.6.1"
  }
 },
 "nbformat": 4,
 "nbformat_minor": 2
}
